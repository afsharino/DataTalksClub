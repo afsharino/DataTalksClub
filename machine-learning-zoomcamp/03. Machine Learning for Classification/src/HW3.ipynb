{
 "cells": [
  {
   "cell_type": "markdown",
   "id": "e84ae2bd",
   "metadata": {},
   "source": [
    "<div align=\"center\">\n",
    "    <img src='../images/hw3.png' alt='hw2-log'/>\n",
    "</div>"
   ]
  },
  {
   "cell_type": "markdown",
   "id": "d28ecdb0",
   "metadata": {},
   "source": [
    "## Import Libraries"
   ]
  },
  {
   "cell_type": "code",
   "execution_count": 226,
   "id": "306b9e33",
   "metadata": {},
   "outputs": [],
   "source": [
    "# Scientific\n",
    "import pandas as pd\n",
    "import numpy as np\n",
    "\n",
    "# Visualization\n",
    "import matplotlib.pyplot as plt\n",
    "\n",
    "# Machine learning\n",
    "from sklearn.model_selection import train_test_split\n",
    "from sklearn.metrics import mutual_info_score\n",
    "from sklearn.feature_extraction import DictVectorizer\n",
    "from sklearn.linear_model import LogisticRegression, Ridge\n",
    "\n",
    "from collections import deque\n",
    "import warnings\n",
    "warnings.filterwarnings('ignore')"
   ]
  },
  {
   "cell_type": "markdown",
   "id": "82da27b2",
   "metadata": {},
   "source": [
    "## Download Dataset"
   ]
  },
  {
   "cell_type": "code",
   "execution_count": 2,
   "id": "6a1facec",
   "metadata": {},
   "outputs": [
    {
     "name": "stdout",
     "output_type": "stream",
     "text": [
      "--2023-10-03 11:14:04--  https://raw.githubusercontent.com/alexeygrigorev/mlbookcamp-code/master/chapter-02-car-price/data.csv\n",
      "Loaded CA certificate '/etc/ssl/certs/ca-certificates.crt'\n",
      "Resolving raw.githubusercontent.com (raw.githubusercontent.com)... 185.199.109.133, 185.199.110.133, 185.199.111.133, ...\n",
      "Connecting to raw.githubusercontent.com (raw.githubusercontent.com)|185.199.109.133|:443... connected.\n",
      "HTTP request sent, awaiting response... 200 OK\n",
      "Length: 1475504 (1.4M) [text/plain]\n",
      "Saving to: ‘data.csv’\n",
      "\n",
      "data.csv            100%[===================>]   1.41M   315KB/s    in 4.6s    \n",
      "\n",
      "2023-10-03 11:14:11 (315 KB/s) - ‘data.csv’ saved [1475504/1475504]\n",
      "\n"
     ]
    }
   ],
   "source": [
    "!wget https://raw.githubusercontent.com/alexeygrigorev/mlbookcamp-code/master/chapter-02-car-price/data.csv"
   ]
  },
  {
   "cell_type": "markdown",
   "id": "5baf9356",
   "metadata": {},
   "source": [
    "## Load Dataset"
   ]
  },
  {
   "cell_type": "code",
   "execution_count": 132,
   "id": "fe71c1ac",
   "metadata": {},
   "outputs": [],
   "source": [
    "data = pd.read_csv('../dataset/data.csv')"
   ]
  },
  {
   "cell_type": "code",
   "execution_count": 133,
   "id": "22a45bb9",
   "metadata": {},
   "outputs": [
    {
     "data": {
      "text/html": [
       "<div>\n",
       "<style scoped>\n",
       "    .dataframe tbody tr th:only-of-type {\n",
       "        vertical-align: middle;\n",
       "    }\n",
       "\n",
       "    .dataframe tbody tr th {\n",
       "        vertical-align: top;\n",
       "    }\n",
       "\n",
       "    .dataframe thead th {\n",
       "        text-align: right;\n",
       "    }\n",
       "</style>\n",
       "<table border=\"1\" class=\"dataframe\">\n",
       "  <thead>\n",
       "    <tr style=\"text-align: right;\">\n",
       "      <th></th>\n",
       "      <th>Make</th>\n",
       "      <th>Model</th>\n",
       "      <th>Year</th>\n",
       "      <th>Engine Fuel Type</th>\n",
       "      <th>Engine HP</th>\n",
       "      <th>Engine Cylinders</th>\n",
       "      <th>Transmission Type</th>\n",
       "      <th>Driven_Wheels</th>\n",
       "      <th>Number of Doors</th>\n",
       "      <th>Market Category</th>\n",
       "      <th>Vehicle Size</th>\n",
       "      <th>Vehicle Style</th>\n",
       "      <th>highway MPG</th>\n",
       "      <th>city mpg</th>\n",
       "      <th>Popularity</th>\n",
       "      <th>MSRP</th>\n",
       "    </tr>\n",
       "  </thead>\n",
       "  <tbody>\n",
       "    <tr>\n",
       "      <th>0</th>\n",
       "      <td>BMW</td>\n",
       "      <td>1 Series M</td>\n",
       "      <td>2011</td>\n",
       "      <td>premium unleaded (required)</td>\n",
       "      <td>335.0</td>\n",
       "      <td>6.0</td>\n",
       "      <td>MANUAL</td>\n",
       "      <td>rear wheel drive</td>\n",
       "      <td>2.0</td>\n",
       "      <td>Factory Tuner,Luxury,High-Performance</td>\n",
       "      <td>Compact</td>\n",
       "      <td>Coupe</td>\n",
       "      <td>26</td>\n",
       "      <td>19</td>\n",
       "      <td>3916</td>\n",
       "      <td>46135</td>\n",
       "    </tr>\n",
       "    <tr>\n",
       "      <th>1</th>\n",
       "      <td>BMW</td>\n",
       "      <td>1 Series</td>\n",
       "      <td>2011</td>\n",
       "      <td>premium unleaded (required)</td>\n",
       "      <td>300.0</td>\n",
       "      <td>6.0</td>\n",
       "      <td>MANUAL</td>\n",
       "      <td>rear wheel drive</td>\n",
       "      <td>2.0</td>\n",
       "      <td>Luxury,Performance</td>\n",
       "      <td>Compact</td>\n",
       "      <td>Convertible</td>\n",
       "      <td>28</td>\n",
       "      <td>19</td>\n",
       "      <td>3916</td>\n",
       "      <td>40650</td>\n",
       "    </tr>\n",
       "    <tr>\n",
       "      <th>2</th>\n",
       "      <td>BMW</td>\n",
       "      <td>1 Series</td>\n",
       "      <td>2011</td>\n",
       "      <td>premium unleaded (required)</td>\n",
       "      <td>300.0</td>\n",
       "      <td>6.0</td>\n",
       "      <td>MANUAL</td>\n",
       "      <td>rear wheel drive</td>\n",
       "      <td>2.0</td>\n",
       "      <td>Luxury,High-Performance</td>\n",
       "      <td>Compact</td>\n",
       "      <td>Coupe</td>\n",
       "      <td>28</td>\n",
       "      <td>20</td>\n",
       "      <td>3916</td>\n",
       "      <td>36350</td>\n",
       "    </tr>\n",
       "    <tr>\n",
       "      <th>3</th>\n",
       "      <td>BMW</td>\n",
       "      <td>1 Series</td>\n",
       "      <td>2011</td>\n",
       "      <td>premium unleaded (required)</td>\n",
       "      <td>230.0</td>\n",
       "      <td>6.0</td>\n",
       "      <td>MANUAL</td>\n",
       "      <td>rear wheel drive</td>\n",
       "      <td>2.0</td>\n",
       "      <td>Luxury,Performance</td>\n",
       "      <td>Compact</td>\n",
       "      <td>Coupe</td>\n",
       "      <td>28</td>\n",
       "      <td>18</td>\n",
       "      <td>3916</td>\n",
       "      <td>29450</td>\n",
       "    </tr>\n",
       "    <tr>\n",
       "      <th>4</th>\n",
       "      <td>BMW</td>\n",
       "      <td>1 Series</td>\n",
       "      <td>2011</td>\n",
       "      <td>premium unleaded (required)</td>\n",
       "      <td>230.0</td>\n",
       "      <td>6.0</td>\n",
       "      <td>MANUAL</td>\n",
       "      <td>rear wheel drive</td>\n",
       "      <td>2.0</td>\n",
       "      <td>Luxury</td>\n",
       "      <td>Compact</td>\n",
       "      <td>Convertible</td>\n",
       "      <td>28</td>\n",
       "      <td>18</td>\n",
       "      <td>3916</td>\n",
       "      <td>34500</td>\n",
       "    </tr>\n",
       "  </tbody>\n",
       "</table>\n",
       "</div>"
      ],
      "text/plain": [
       "  Make       Model  Year             Engine Fuel Type  Engine HP  \\\n",
       "0  BMW  1 Series M  2011  premium unleaded (required)      335.0   \n",
       "1  BMW    1 Series  2011  premium unleaded (required)      300.0   \n",
       "2  BMW    1 Series  2011  premium unleaded (required)      300.0   \n",
       "3  BMW    1 Series  2011  premium unleaded (required)      230.0   \n",
       "4  BMW    1 Series  2011  premium unleaded (required)      230.0   \n",
       "\n",
       "   Engine Cylinders Transmission Type     Driven_Wheels  Number of Doors  \\\n",
       "0               6.0            MANUAL  rear wheel drive              2.0   \n",
       "1               6.0            MANUAL  rear wheel drive              2.0   \n",
       "2               6.0            MANUAL  rear wheel drive              2.0   \n",
       "3               6.0            MANUAL  rear wheel drive              2.0   \n",
       "4               6.0            MANUAL  rear wheel drive              2.0   \n",
       "\n",
       "                         Market Category Vehicle Size Vehicle Style  \\\n",
       "0  Factory Tuner,Luxury,High-Performance      Compact         Coupe   \n",
       "1                     Luxury,Performance      Compact   Convertible   \n",
       "2                Luxury,High-Performance      Compact         Coupe   \n",
       "3                     Luxury,Performance      Compact         Coupe   \n",
       "4                                 Luxury      Compact   Convertible   \n",
       "\n",
       "   highway MPG  city mpg  Popularity   MSRP  \n",
       "0           26        19        3916  46135  \n",
       "1           28        19        3916  40650  \n",
       "2           28        20        3916  36350  \n",
       "3           28        18        3916  29450  \n",
       "4           28        18        3916  34500  "
      ]
     },
     "execution_count": 133,
     "metadata": {},
     "output_type": "execute_result"
    }
   ],
   "source": [
    "data.head()"
   ]
  },
  {
   "cell_type": "markdown",
   "id": "048972cd",
   "metadata": {},
   "source": [
    "## Feature Selection"
   ]
  },
  {
   "cell_type": "code",
   "execution_count": 134,
   "id": "e24d01e9",
   "metadata": {},
   "outputs": [],
   "source": [
    "columns = ['Make', 'Model', 'Year','Engine HP','Engine Cylinders',\n",
    "           'Transmission Type', 'Vehicle Style', 'highway MPG', 'city mpg', 'MSRP']"
   ]
  },
  {
   "cell_type": "code",
   "execution_count": 135,
   "id": "fe76a2a8",
   "metadata": {},
   "outputs": [],
   "source": [
    "filterd_data = data[columns].copy()"
   ]
  },
  {
   "cell_type": "markdown",
   "id": "31ad2e4f",
   "metadata": {},
   "source": [
    "## Data Prepration"
   ]
  },
  {
   "cell_type": "code",
   "execution_count": 136,
   "id": "10c484a8",
   "metadata": {},
   "outputs": [],
   "source": [
    "filterd_data.columns = filterd_data.columns.str.replace(' ', '_').str.lower()"
   ]
  },
  {
   "cell_type": "code",
   "execution_count": 137,
   "id": "dba69f82",
   "metadata": {},
   "outputs": [
    {
     "data": {
      "text/plain": [
       "make                  0\n",
       "model                 0\n",
       "year                  0\n",
       "engine_hp            69\n",
       "engine_cylinders     30\n",
       "transmission_type     0\n",
       "vehicle_style         0\n",
       "highway_mpg           0\n",
       "city_mpg              0\n",
       "msrp                  0\n",
       "dtype: int64"
      ]
     },
     "execution_count": 137,
     "metadata": {},
     "output_type": "execute_result"
    }
   ],
   "source": [
    "filterd_data.isna().sum()"
   ]
  },
  {
   "cell_type": "code",
   "execution_count": 138,
   "id": "d69869aa",
   "metadata": {},
   "outputs": [],
   "source": [
    "filterd_data.fillna(0, inplace=True)"
   ]
  },
  {
   "cell_type": "code",
   "execution_count": 139,
   "id": "7d8b4175",
   "metadata": {},
   "outputs": [
    {
     "data": {
      "text/plain": [
       "make                 0\n",
       "model                0\n",
       "year                 0\n",
       "engine_hp            0\n",
       "engine_cylinders     0\n",
       "transmission_type    0\n",
       "vehicle_style        0\n",
       "highway_mpg          0\n",
       "city_mpg             0\n",
       "msrp                 0\n",
       "dtype: int64"
      ]
     },
     "execution_count": 139,
     "metadata": {},
     "output_type": "execute_result"
    }
   ],
   "source": [
    "filterd_data.isna().sum()"
   ]
  },
  {
   "cell_type": "code",
   "execution_count": 140,
   "id": "15e9d623",
   "metadata": {},
   "outputs": [],
   "source": [
    "filterd_data.rename(columns = {'msrp':'price'}, inplace=True)"
   ]
  },
  {
   "cell_type": "markdown",
   "id": "c0da9034",
   "metadata": {},
   "source": [
    "## Question 1: What is the most frequent observation (mode) for the column ```transmission_type```?"
   ]
  },
  {
   "cell_type": "code",
   "execution_count": 141,
   "id": "c7dae9af",
   "metadata": {},
   "outputs": [
    {
     "data": {
      "text/plain": [
       "transmission_type\n",
       "AUTOMATIC           8266\n",
       "MANUAL              2935\n",
       "AUTOMATED_MANUAL     626\n",
       "DIRECT_DRIVE          68\n",
       "UNKNOWN               19\n",
       "Name: count, dtype: int64"
      ]
     },
     "execution_count": 141,
     "metadata": {},
     "output_type": "execute_result"
    }
   ],
   "source": [
    "filterd_data.transmission_type.value_counts()"
   ]
  },
  {
   "cell_type": "markdown",
   "id": "a8a3ddc9",
   "metadata": {},
   "source": [
    "As we can see AUTOMATIC: 8266 is the mode"
   ]
  },
  {
   "cell_type": "markdown",
   "id": "e479da4a",
   "metadata": {},
   "source": [
    "### Question 2: Create the correlation matrix for the numerical features of your dataset. In a correlation matrix, you compute the correlation coefficient between every pair of features in the dataset.\n",
    "\n",
    "### What are the two features that have the biggest correlation in this dataset?"
   ]
  },
  {
   "cell_type": "code",
   "execution_count": 142,
   "id": "09382165",
   "metadata": {},
   "outputs": [
    {
     "name": "stdout",
     "output_type": "stream",
     "text": [
      "<class 'pandas.core.frame.DataFrame'>\n",
      "RangeIndex: 11914 entries, 0 to 11913\n",
      "Data columns (total 10 columns):\n",
      " #   Column             Non-Null Count  Dtype  \n",
      "---  ------             --------------  -----  \n",
      " 0   make               11914 non-null  object \n",
      " 1   model              11914 non-null  object \n",
      " 2   year               11914 non-null  int64  \n",
      " 3   engine_hp          11914 non-null  float64\n",
      " 4   engine_cylinders   11914 non-null  float64\n",
      " 5   transmission_type  11914 non-null  object \n",
      " 6   vehicle_style      11914 non-null  object \n",
      " 7   highway_mpg        11914 non-null  int64  \n",
      " 8   city_mpg           11914 non-null  int64  \n",
      " 9   price              11914 non-null  int64  \n",
      "dtypes: float64(2), int64(4), object(4)\n",
      "memory usage: 930.9+ KB\n"
     ]
    }
   ],
   "source": [
    "filterd_data.info()"
   ]
  },
  {
   "cell_type": "code",
   "execution_count": 143,
   "id": "93ad3c67",
   "metadata": {},
   "outputs": [],
   "source": [
    "numerical = ['year', 'engine_hp', 'engine_cylinders', 'highway_mpg', 'city_mpg']\n",
    "categorical = ['make', 'model', 'transmission_type', 'vehicle_style']"
   ]
  },
  {
   "cell_type": "code",
   "execution_count": 144,
   "id": "020d62ac",
   "metadata": {},
   "outputs": [
    {
     "data": {
      "text/html": [
       "<div>\n",
       "<style scoped>\n",
       "    .dataframe tbody tr th:only-of-type {\n",
       "        vertical-align: middle;\n",
       "    }\n",
       "\n",
       "    .dataframe tbody tr th {\n",
       "        vertical-align: top;\n",
       "    }\n",
       "\n",
       "    .dataframe thead th {\n",
       "        text-align: right;\n",
       "    }\n",
       "</style>\n",
       "<table border=\"1\" class=\"dataframe\">\n",
       "  <thead>\n",
       "    <tr style=\"text-align: right;\">\n",
       "      <th></th>\n",
       "      <th>year</th>\n",
       "      <th>engine_hp</th>\n",
       "      <th>engine_cylinders</th>\n",
       "      <th>highway_mpg</th>\n",
       "      <th>city_mpg</th>\n",
       "    </tr>\n",
       "  </thead>\n",
       "  <tbody>\n",
       "    <tr>\n",
       "      <th>year</th>\n",
       "      <td>1.000000</td>\n",
       "      <td>0.338714</td>\n",
       "      <td>-0.040708</td>\n",
       "      <td>0.258240</td>\n",
       "      <td>0.198171</td>\n",
       "    </tr>\n",
       "    <tr>\n",
       "      <th>engine_hp</th>\n",
       "      <td>0.338714</td>\n",
       "      <td>1.000000</td>\n",
       "      <td>0.774851</td>\n",
       "      <td>-0.415707</td>\n",
       "      <td>-0.424918</td>\n",
       "    </tr>\n",
       "    <tr>\n",
       "      <th>engine_cylinders</th>\n",
       "      <td>-0.040708</td>\n",
       "      <td>0.774851</td>\n",
       "      <td>1.000000</td>\n",
       "      <td>-0.614541</td>\n",
       "      <td>-0.587306</td>\n",
       "    </tr>\n",
       "    <tr>\n",
       "      <th>highway_mpg</th>\n",
       "      <td>0.258240</td>\n",
       "      <td>-0.415707</td>\n",
       "      <td>-0.614541</td>\n",
       "      <td>1.000000</td>\n",
       "      <td>0.886829</td>\n",
       "    </tr>\n",
       "    <tr>\n",
       "      <th>city_mpg</th>\n",
       "      <td>0.198171</td>\n",
       "      <td>-0.424918</td>\n",
       "      <td>-0.587306</td>\n",
       "      <td>0.886829</td>\n",
       "      <td>1.000000</td>\n",
       "    </tr>\n",
       "  </tbody>\n",
       "</table>\n",
       "</div>"
      ],
      "text/plain": [
       "                      year  engine_hp  engine_cylinders  highway_mpg  city_mpg\n",
       "year              1.000000   0.338714         -0.040708     0.258240  0.198171\n",
       "engine_hp         0.338714   1.000000          0.774851    -0.415707 -0.424918\n",
       "engine_cylinders -0.040708   0.774851          1.000000    -0.614541 -0.587306\n",
       "highway_mpg       0.258240  -0.415707         -0.614541     1.000000  0.886829\n",
       "city_mpg          0.198171  -0.424918         -0.587306     0.886829  1.000000"
      ]
     },
     "execution_count": 144,
     "metadata": {},
     "output_type": "execute_result"
    }
   ],
   "source": [
    "filterd_data[numerical].corr()"
   ]
  },
  {
   "cell_type": "markdown",
   "id": "4ec857a3",
   "metadata": {},
   "source": [
    "## make price binary"
   ]
  },
  {
   "cell_type": "code",
   "execution_count": 145,
   "id": "10c6f23b",
   "metadata": {},
   "outputs": [],
   "source": [
    "\n",
    "filterd_data['above_average'] = filterd_data.price.apply(lambda x: 1 if x > filterd_data.price.mean() else 0 )"
   ]
  },
  {
   "cell_type": "markdown",
   "id": "72c47588",
   "metadata": {},
   "source": [
    "## Split Data"
   ]
  },
  {
   "cell_type": "code",
   "execution_count": 146,
   "id": "1928d9c1",
   "metadata": {},
   "outputs": [],
   "source": [
    "X = filterd_data[filterd_data.columns[:-1]]\n",
    "y = filterd_data[filterd_data.columns[-1]]"
   ]
  },
  {
   "cell_type": "code",
   "execution_count": 147,
   "id": "872e9400",
   "metadata": {},
   "outputs": [],
   "source": [
    "X_train, X_test, y_train, y_test = train_test_split(X,\n",
    "                                                    y,\n",
    "                                                    stratify=y,\n",
    "                                                    random_state=42,\n",
    "                                                    test_size=0.20)"
   ]
  },
  {
   "cell_type": "code",
   "execution_count": 148,
   "id": "ddb2732e",
   "metadata": {},
   "outputs": [],
   "source": [
    "X_train, X_val, y_train, y_val = train_test_split(X_train,\n",
    "                                                    y_train,\n",
    "                                                    stratify=y_train,\n",
    "                                                    random_state=42,\n",
    "                                                    test_size=0.20)"
   ]
  },
  {
   "cell_type": "markdown",
   "id": "b2353547",
   "metadata": {},
   "source": [
    "## Question 3: \n",
    "- Calculate the mutual information score between above_average and other categorical variables in our dataset. Use the training set only.\n",
    "- Round the scores to 2 decimals using round(score, 2).\n",
    "\n",
    "Which of these variables has the lowest mutual information score?\n",
    "\n"
   ]
  },
  {
   "cell_type": "code",
   "execution_count": 222,
   "id": "00d90665",
   "metadata": {},
   "outputs": [
    {
     "name": "stdout",
     "output_type": "stream",
     "text": [
      "mutual information between above_average & make: 0.23\n",
      "mutual information between above_average & model: 0.46\n",
      "mutual information between above_average & transmission_type: 0.02\n",
      "mutual information between above_average & vehicle_style: 0.08\n",
      "_______________________________________\n",
      "The column with lowest mutual information is: transmission_type, mutual info: 0.02\n"
     ]
    }
   ],
   "source": [
    "lowest_mutul_info = float('inf')\n",
    "for column in categorical:\n",
    "    mutual_info = round(mutual_info_score(X_train[column], y_train), 2)\n",
    "    print(f'mutual information between above_average & {column}: {mutual_info}')\n",
    "    \n",
    "    if mutual_info < lowest_mutul_info:\n",
    "        lowest_mutul_info = mutual_info\n",
    "        lowest_column = column\n",
    "        \n",
    "print(\"_______________________________________\")\n",
    "print(f'The column with lowest mutual information is: {lowest_column}, mutual info: {lowest_mutul_info}')    "
   ]
  },
  {
   "cell_type": "markdown",
   "id": "a8ef1b43",
   "metadata": {},
   "source": [
    "## Question 4: \n",
    "- Now let's train a logistic regression.\n",
    "- Remember that we have several categorical variables in the dataset. Include them using one-hot encoding.\n",
    "- Fit the model on the training dataset.\n",
    "- To make sure the results are reproducible across different versions of Scikit-Learn, fit the model with these parameters:\n",
    "model = LogisticRegression(solver='liblinear', C=10, max_iter=1000, random_state=42)\n",
    "- Calculate the accuracy on the validation dataset and round it to 2 decimal digits.\n",
    "\n",
    "What accuracy did you get?"
   ]
  },
  {
   "cell_type": "markdown",
   "id": "68bb94db",
   "metadata": {},
   "source": [
    "## One-Hot"
   ]
  },
  {
   "cell_type": "code",
   "execution_count": 223,
   "id": "15889c9a",
   "metadata": {},
   "outputs": [],
   "source": [
    "dv = DictVectorizer(sparse=False)\n",
    "\n",
    "train_dict = X_train[categorical + numerical].to_dict(orient='records')\n",
    "X_train1 = dv.fit_transform(train_dict)\n",
    "\n",
    "val_dict = X_val[categorical + numerical].to_dict(orient='records')\n",
    "X_val1 = dv.transform(val_dict)"
   ]
  },
  {
   "cell_type": "markdown",
   "id": "4b0ea5cd",
   "metadata": {},
   "source": [
    "## Fit model"
   ]
  },
  {
   "cell_type": "code",
   "execution_count": 224,
   "id": "598ea817",
   "metadata": {},
   "outputs": [],
   "source": [
    "model = LogisticRegression(solver='liblinear', C=10, max_iter=1000, random_state=42)\n",
    "_ = model.fit(X_train1, y_train)"
   ]
  },
  {
   "cell_type": "code",
   "execution_count": 225,
   "id": "d0f5f8b2",
   "metadata": {},
   "outputs": [
    {
     "data": {
      "text/plain": [
       "0.93"
      ]
     },
     "execution_count": 225,
     "metadata": {},
     "output_type": "execute_result"
    }
   ],
   "source": [
    "accuracy = model.score(X_val1, y_val)\n",
    "round(accuracy, 2)"
   ]
  },
  {
   "cell_type": "markdown",
   "id": "4bf5da04",
   "metadata": {},
   "source": [
    "## Question 5: \n",
    "- Let's find the least useful feature using the feature elimination technique.\n",
    "- Train a model with all these features (using the same parameters as in Q4).\n",
    "- Now exclude each feature from this set and train a model without it. Record the accuracy for each model.\n",
    "- For each feature, calculate the difference between the original accuracy and the accuracy without the feature.\n",
    "\n",
    "Which of following feature has the smallest difference?"
   ]
  },
  {
   "cell_type": "code",
   "execution_count": 178,
   "id": "1d9fed5a",
   "metadata": {},
   "outputs": [
    {
     "data": {
      "text/plain": [
       "0.93"
      ]
     },
     "execution_count": 178,
     "metadata": {},
     "output_type": "execute_result"
    }
   ],
   "source": [
    "model = LogisticRegression(solver='liblinear', C=10, max_iter=1000, random_state=42)\n",
    "_ = model.fit(X_train1, y_train)\n",
    "original_accuracy = model.score(X_val1, y_val)\n",
    "round(original_accuracy, 2)"
   ]
  },
  {
   "cell_type": "code",
   "execution_count": 190,
   "id": "63b531be",
   "metadata": {},
   "outputs": [
    {
     "name": "stdout",
     "output_type": "stream",
     "text": [
      "Droped feature: make, accuracy: 0.9339276350288411, diff: -0.0031463030938647663\n",
      "Droped feature: model, accuracy: 0.908232826428946, diff: 0.02254850550603038\n",
      "Droped feature: year, accuracy: 0.9449396958573676, diff: -0.014158363922391226\n",
      "Droped feature: engine_hp, accuracy: 0.9260618772941793, diff: 0.004719454640797038\n",
      "Droped feature: engine_cylinders, accuracy: 0.9355007865757735, diff: -0.004719454640797149\n",
      "Droped feature: transmission_type, accuracy: 0.9150498164656529, diff: 0.015731515469323498\n",
      "Droped feature: vehicle_style, accuracy: 0.912952281069743, diff: 0.017829050865233342\n",
      "Droped feature: highway_mpg, accuracy: 0.9318300996329313, diff: -0.001048767697954922\n",
      "Droped feature: city_mpg, accuracy: 0.9396958573675931, diff: -0.008914525432616727\n",
      "______________________________________________\n",
      "best column: year, diff: -0.014158363922391226\n"
     ]
    }
   ],
   "source": [
    "best_diff_accuracy = float('inf')\n",
    "columns = filterd_data.columns[:-2]\n",
    "for i in range(len(columns)):\n",
    "    \n",
    "    dv = DictVectorizer(sparse=False)\n",
    "\n",
    "    train_dict = X_train[columns[1:]].to_dict(orient='records')\n",
    "    X_train2 = dv.fit_transform(train_dict)\n",
    "\n",
    "    val_dict = X_val.to_dict(orient='records')\n",
    "    X_val2 = dv.transform(val_dict)\n",
    "    \n",
    "    model = LogisticRegression(solver='liblinear', C=10, max_iter=1000, random_state=42)\n",
    "    _ = model.fit(X_train2, y_train)\n",
    "    accuracy = model.score(X_val2, y_val)\n",
    "    \n",
    "    diff = original_accuracy - accuracy\n",
    "    \n",
    "    if diff < best_diff_accuracy:\n",
    "        best_diff_accuracy = diff\n",
    "        best_column = columns[0]\n",
    "        \n",
    "    print(f'Droped feature: {columns[0]}, accuracy: {accuracy}, diff: {diff}')\n",
    "    \n",
    "    columns = deque(columns)\n",
    "    columns.rotate(-1)\n",
    "    columns = list(columns)\n",
    "print(f'______________________________________________')\n",
    "print(f'best column: {best_column}, diff: {best_diff_accuracy}')"
   ]
  },
  {
   "cell_type": "markdown",
   "id": "3395e7c5",
   "metadata": {},
   "source": [
    "# Question 3 :\n",
    "- For this question, we'll see how to use a linear regression model from Scikit-Learn.\n",
    "- We'll need to use the original column price. Apply the logarithmic transformation to this column.\n",
    "- Fit the Ridge regression model on the training data with a solver 'sag'. Set the seed to 42.\n",
    "- This model also has a parameter alpha. Let's try the following values: [0, 0.01, 0.1, 1, 10].\n",
    "- Round your RMSE scores to 3 decimal digits.\n",
    "\n",
    "Which of these alphas leads to the best RMSE on the validation set?"
   ]
  },
  {
   "cell_type": "code",
   "execution_count": 206,
   "id": "5a9b922a",
   "metadata": {},
   "outputs": [],
   "source": [
    "new_data = filterd_data.copy()"
   ]
  },
  {
   "cell_type": "code",
   "execution_count": 207,
   "id": "b6ea8bbe",
   "metadata": {},
   "outputs": [],
   "source": [
    "new_data.drop(columns=['above_average'], inplace=True)"
   ]
  },
  {
   "cell_type": "code",
   "execution_count": 208,
   "id": "b9eb7456",
   "metadata": {},
   "outputs": [],
   "source": [
    "X_new = new_data[new_data.columns[:-1]]\n",
    "y_new = new_data[new_data.columns[-1]]"
   ]
  },
  {
   "cell_type": "code",
   "execution_count": 214,
   "id": "edb23e04",
   "metadata": {},
   "outputs": [],
   "source": [
    "X_train_new, X_test_new, y_train_new, y_test_new = train_test_split(X_new,\n",
    "                                                    y_new,\n",
    "                                                    random_state=42,\n",
    "                                                    test_size=0.20)"
   ]
  },
  {
   "cell_type": "code",
   "execution_count": 215,
   "id": "772edce4",
   "metadata": {},
   "outputs": [],
   "source": [
    "X_train_new, X_val_new, y_train_new, y_val_new = train_test_split(X_train_new,\n",
    "                                                    y_train_new,\n",
    "                                                    random_state=42,\n",
    "                                                    test_size=0.20)"
   ]
  },
  {
   "cell_type": "code",
   "execution_count": 216,
   "id": "5cb05cbc",
   "metadata": {},
   "outputs": [],
   "source": [
    "dv = DictVectorizer(sparse=False)\n",
    "\n",
    "train_dict = X_train_new.to_dict(orient='records')\n",
    "X_train_new = dv.fit_transform(train_dict)\n",
    "\n",
    "val_dict = X_val.to_dict(orient='records')\n",
    "X_val_new = dv.transform(val_dict)"
   ]
  },
  {
   "cell_type": "code",
   "execution_count": 217,
   "id": "ad2f870e",
   "metadata": {},
   "outputs": [],
   "source": [
    "def rmse(y, y_pred):\n",
    "    error =  y - y_pred\n",
    "    mse = (error ** 2).mean()\n",
    "    return np.sqrt(mse)"
   ]
  },
  {
   "cell_type": "code",
   "execution_count": 228,
   "id": "41eb0b75",
   "metadata": {},
   "outputs": [
    {
     "name": "stdout",
     "output_type": "stream",
     "text": [
      "alpha: 0, RMSE: 86515.475\n",
      "alpha: 0.01, RMSE: 86515.468\n",
      "alpha: 0.1, RMSE: 86515.398\n",
      "alpha: 1, RMSE: 86514.698\n",
      "alpha: 10, RMSE: 86507.755\n",
      "________________________\n",
      "Best RMSE: 86507.755, Best alpha: 10\n"
     ]
    }
   ],
   "source": [
    "best_rmse = float('inf')\n",
    "for alpha in [0, 0.01, 0.1, 1, 10]:\n",
    "    model = Ridge(alpha=alpha, solver='sag', random_state=42)\n",
    "    model.fit(X_train_new, y_train_new)\n",
    "    \n",
    "    y_pred = model.predict(X_val_new)\n",
    "    rmse_score = round(rmse(y_val_new, y_pred), 3)\n",
    "    \n",
    "    if rmse_score < best_rmse:\n",
    "        best_rmse = rmse_score\n",
    "        best_alpha = alpha\n",
    "    print(f'alpha: {alpha}, RMSE: {rmse_score}')\n",
    "    \n",
    "print('________________________') \n",
    "print(f'Best RMSE: {best_rmse}, Best alpha: {alpha}')"
   ]
  },
  {
   "cell_type": "code",
   "execution_count": null,
   "id": "fd6c721c",
   "metadata": {},
   "outputs": [],
   "source": []
  }
 ],
 "metadata": {
  "kernelspec": {
   "display_name": "Python 3 (ipykernel)",
   "language": "python",
   "name": "python3"
  },
  "language_info": {
   "codemirror_mode": {
    "name": "ipython",
    "version": 3
   },
   "file_extension": ".py",
   "mimetype": "text/x-python",
   "name": "python",
   "nbconvert_exporter": "python",
   "pygments_lexer": "ipython3",
   "version": "3.11.4"
  }
 },
 "nbformat": 4,
 "nbformat_minor": 5
}
