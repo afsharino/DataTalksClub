{
 "cells": [
  {
   "cell_type": "markdown",
   "id": "a3d91d5b",
   "metadata": {},
   "source": [
    "<div align=\"center\">\n",
    "    <img src='../images/hw1.png' alt='hw1-log'/>\n",
    "</div>"
   ]
  },
  {
   "cell_type": "markdown",
   "id": "5f5cd690",
   "metadata": {},
   "source": [
    "### Import Libraries"
   ]
  },
  {
   "cell_type": "code",
   "execution_count": 4,
   "id": "142222d2",
   "metadata": {},
   "outputs": [],
   "source": [
    "# Scientific\n",
    "import pandas as pd\n",
    "import numpy as np"
   ]
  },
  {
   "cell_type": "markdown",
   "id": "ce63e9af",
   "metadata": {},
   "source": [
    "### Download Dataset"
   ]
  },
  {
   "cell_type": "code",
   "execution_count": 2,
   "id": "076fecfc",
   "metadata": {},
   "outputs": [
    {
     "name": "stdout",
     "output_type": "stream",
     "text": [
      "--2024-09-30 23:20:27--  https://raw.githubusercontent.com/alexeygrigorev/datasets/master/laptops.csv\n",
      "Loaded CA certificate '/etc/ssl/certs/ca-certificates.crt'\n",
      "Resolving raw.githubusercontent.com (raw.githubusercontent.com)... 185.199.110.133, 185.199.108.133, 185.199.109.133, ...\n",
      "Connecting to raw.githubusercontent.com (raw.githubusercontent.com)|185.199.110.133|:443... connected.\n",
      "HTTP request sent, awaiting response... 200 OK\n",
      "Length: 298573 (292K) [text/plain]\n",
      "Saving to: ‘../dataset/laptops.csv’\n",
      "\n",
      "laptops.csv         100%[===================>] 291.58K   596KB/s    in 0.5s    \n",
      "\n",
      "2024-09-30 23:20:29 (596 KB/s) - ‘../dataset/laptops.csv’ saved [298573/298573]\n",
      "\n"
     ]
    }
   ],
   "source": [
    "!wget -P ../dataset https://raw.githubusercontent.com/alexeygrigorev/datasets/master/laptops.csv\n"
   ]
  },
  {
   "cell_type": "markdown",
   "id": "63a03395",
   "metadata": {},
   "source": [
    "### Load Dataset"
   ]
  },
  {
   "cell_type": "code",
   "execution_count": 5,
   "id": "514c67cb",
   "metadata": {},
   "outputs": [],
   "source": [
    "data = pd.read_csv('../dataset/laptops.csv')"
   ]
  },
  {
   "cell_type": "markdown",
   "id": "be025d7e",
   "metadata": {},
   "source": [
    "### Question 1: What's the version of Pandas that you installed?"
   ]
  },
  {
   "cell_type": "code",
   "execution_count": 6,
   "id": "8594f45f",
   "metadata": {},
   "outputs": [
    {
     "data": {
      "text/plain": [
       "'2.2.1'"
      ]
     },
     "execution_count": 6,
     "metadata": {},
     "output_type": "execute_result"
    }
   ],
   "source": [
    "pd.__version__"
   ]
  },
  {
   "cell_type": "markdown",
   "id": "69e10192",
   "metadata": {},
   "source": [
    "### Question 2: How many records are in the dataset?"
   ]
  },
  {
   "cell_type": "code",
   "execution_count": 9,
   "id": "af48aa8a",
   "metadata": {},
   "outputs": [
    {
     "data": {
      "text/plain": [
       "2160"
      ]
     },
     "execution_count": 9,
     "metadata": {},
     "output_type": "execute_result"
    }
   ],
   "source": [
    "data.shape[0]"
   ]
  },
  {
   "cell_type": "markdown",
   "id": "1e901d86",
   "metadata": {},
   "source": [
    "### Question 3: How many laptop brands are presented in the dataset?"
   ]
  },
  {
   "cell_type": "code",
   "execution_count": 13,
   "id": "ee0e9970",
   "metadata": {},
   "outputs": [
    {
     "data": {
      "text/plain": [
       "27"
      ]
     },
     "execution_count": 13,
     "metadata": {},
     "output_type": "execute_result"
    }
   ],
   "source": [
    "len(data.Brand.value_counts())"
   ]
  },
  {
   "cell_type": "code",
   "execution_count": 15,
   "id": "75aeca3d",
   "metadata": {},
   "outputs": [
    {
     "data": {
      "text/plain": [
       "27"
      ]
     },
     "execution_count": 15,
     "metadata": {},
     "output_type": "execute_result"
    }
   ],
   "source": [
    "len(data.Brand.unique())"
   ]
  },
  {
   "cell_type": "code",
   "execution_count": 16,
   "id": "dc0a220f",
   "metadata": {},
   "outputs": [
    {
     "data": {
      "text/plain": [
       "27"
      ]
     },
     "execution_count": 16,
     "metadata": {},
     "output_type": "execute_result"
    }
   ],
   "source": [
    "len(np.unique(data.Brand))"
   ]
  },
  {
   "cell_type": "markdown",
   "id": "72f2e166",
   "metadata": {},
   "source": [
    "### Question 4: How many columns in the dataset have missing values?"
   ]
  },
  {
   "cell_type": "code",
   "execution_count": 17,
   "id": "0377389f",
   "metadata": {},
   "outputs": [
    {
     "name": "stdout",
     "output_type": "stream",
     "text": [
      "Storage type\n",
      "GPU\n",
      "Screen\n"
     ]
    }
   ],
   "source": [
    "for column in data.columns:\n",
    "    if data[column].isna().any() == True:\n",
    "        print(column)"
   ]
  },
  {
   "cell_type": "code",
   "execution_count": 24,
   "id": "62008b9e",
   "metadata": {},
   "outputs": [
    {
     "name": "stdout",
     "output_type": "stream",
     "text": [
      "<class 'pandas.core.frame.DataFrame'>\n",
      "RangeIndex: 2160 entries, 0 to 2159\n",
      "Data columns (total 12 columns):\n",
      " #   Column        Non-Null Count  Dtype  \n",
      "---  ------        --------------  -----  \n",
      " 0   Laptop        2160 non-null   object \n",
      " 1   Status        2160 non-null   object \n",
      " 2   Brand         2160 non-null   object \n",
      " 3   Model         2160 non-null   object \n",
      " 4   CPU           2160 non-null   object \n",
      " 5   RAM           2160 non-null   int64  \n",
      " 6   Storage       2160 non-null   int64  \n",
      " 7   Storage type  2118 non-null   object \n",
      " 8   GPU           789 non-null    object \n",
      " 9   Screen        2156 non-null   float64\n",
      " 10  Touch         2160 non-null   object \n",
      " 11  Final Price   2160 non-null   float64\n",
      "dtypes: float64(2), int64(2), object(8)\n",
      "memory usage: 202.6+ KB\n"
     ]
    }
   ],
   "source": [
    "data.info()"
   ]
  },
  {
   "cell_type": "code",
   "execution_count": 20,
   "id": "5e2284a4",
   "metadata": {},
   "outputs": [
    {
     "data": {
      "text/plain": [
       "Laptop             0\n",
       "Status             0\n",
       "Brand              0\n",
       "Model              0\n",
       "CPU                0\n",
       "RAM                0\n",
       "Storage            0\n",
       "Storage type      42\n",
       "GPU             1371\n",
       "Screen             4\n",
       "Touch              0\n",
       "Final Price        0\n",
       "dtype: int64"
      ]
     },
     "execution_count": 20,
     "metadata": {},
     "output_type": "execute_result"
    }
   ],
   "source": [
    "data.isnull().sum()"
   ]
  },
  {
   "cell_type": "code",
   "execution_count": 23,
   "id": "dd7b5f64",
   "metadata": {},
   "outputs": [
    {
     "data": {
      "text/plain": [
       "Storage type      42\n",
       "GPU             1371\n",
       "Screen             4\n",
       "dtype: int64"
      ]
     },
     "execution_count": 23,
     "metadata": {},
     "output_type": "execute_result"
    }
   ],
   "source": [
    "data.isnull().sum()[data.isnull().sum() > 0]"
   ]
  },
  {
   "cell_type": "code",
   "execution_count": 22,
   "id": "3f07356a",
   "metadata": {},
   "outputs": [
    {
     "data": {
      "text/plain": [
       "3"
      ]
     },
     "execution_count": 22,
     "metadata": {},
     "output_type": "execute_result"
    }
   ],
   "source": [
    "data.isnull().sum()[data.isnull().sum() > 0].count()"
   ]
  },
  {
   "cell_type": "markdown",
   "id": "5d99742b",
   "metadata": {},
   "source": [
    "### Question 5: What's the maximum final price of Dell notebooks in the dataset?"
   ]
  },
  {
   "cell_type": "code",
   "execution_count": 30,
   "id": "3d745603",
   "metadata": {},
   "outputs": [
    {
     "data": {
      "text/plain": [
       "3936.0"
      ]
     },
     "execution_count": 30,
     "metadata": {},
     "output_type": "execute_result"
    }
   ],
   "source": [
    "data[data['Brand'] == 'Dell']['Final Price'].max()"
   ]
  },
  {
   "cell_type": "markdown",
   "id": "ed0d7019",
   "metadata": {},
   "source": [
    "### Question 6: Follow the bellow steps\n",
    "1. Select all the \"Innjoo\" laptops from the dataset.\n",
    "2. Next, calculate the most frequent value of the same ```Screen```column.\n",
    "3. Use ```fillna``` method to fill the missing values in ```Screen```` column with the most frequent value from the previous step.\n",
    "4. Now, calculate the median value of ```Screen``` once again.\n",
    "\n",
    "Has it changed?"
   ]
  },
  {
   "cell_type": "code",
   "execution_count": 34,
   "id": "d88b0f72",
   "metadata": {},
   "outputs": [
    {
     "data": {
      "text/plain": [
       "15.6"
      ]
     },
     "execution_count": 34,
     "metadata": {},
     "output_type": "execute_result"
    }
   ],
   "source": [
    "median_screen_before = data.Screen.median()\n",
    "median_screen_before"
   ]
  },
  {
   "cell_type": "code",
   "execution_count": 37,
   "id": "ea8d48f6",
   "metadata": {},
   "outputs": [
    {
     "data": {
      "text/plain": [
       "15.6"
      ]
     },
     "execution_count": 37,
     "metadata": {},
     "output_type": "execute_result"
    }
   ],
   "source": [
    "most_frequent_screen = data['Screen'].mode()[0]\n",
    "most_frequent_screen"
   ]
  },
  {
   "cell_type": "code",
   "execution_count": 39,
   "id": "726ef13f",
   "metadata": {},
   "outputs": [],
   "source": [
    "data.fillna({'Screen': most_frequent_screen}, inplace=True)"
   ]
  },
  {
   "cell_type": "code",
   "execution_count": 40,
   "id": "1c9e74dd",
   "metadata": {},
   "outputs": [
    {
     "data": {
      "text/plain": [
       "15.6"
      ]
     },
     "execution_count": 40,
     "metadata": {},
     "output_type": "execute_result"
    }
   ],
   "source": [
    "median_screen_after = data['Screen'].median()\n",
    "median_screen_after"
   ]
  },
  {
   "cell_type": "markdown",
   "id": "7bb18129",
   "metadata": {},
   "source": [
    "### Question 7: Follow the bellow steps\n",
    "1. Select all the \"Innjoo\" laptops from the dataset.\n",
    "2. Select only columns ```RAM```, ```Storage```, ```Screen```.\n",
    "3. Get the underlying NumPy array. Let's call it ```X```.\n",
    "4. Compute matrix-matrix multiplication between the transpose of ```X``` and ```X```. To get the transpose, use ```X.T```. Let's call the result ```XTX```.\n",
    "5. Compute the inverse of ```XTX```.\n",
    "6. Create an array ```y``` with values ```[1100, 1300, 800, 900, 1000, 1100]```.\n",
    "7. Multiply the inverse of ```XTX``` with the transpose of ```X```, and then multiply the result by ```y```. Call the result ```w```.\n",
    "8. What's the sum of all the elements of the result?"
   ]
  },
  {
   "cell_type": "code",
   "execution_count": 46,
   "id": "f0c21a7c",
   "metadata": {},
   "outputs": [],
   "source": [
    "innjoo_laptops = data[data['Brand'] == 'Innjoo'][['RAM', 'Storage', 'Screen']]"
   ]
  },
  {
   "cell_type": "code",
   "execution_count": 47,
   "id": "783a2c68",
   "metadata": {},
   "outputs": [],
   "source": [
    "X = innjoo_laptops.values"
   ]
  },
  {
   "cell_type": "code",
   "execution_count": 42,
   "id": "3c756b2e",
   "metadata": {},
   "outputs": [
    {
     "data": {
      "text/plain": [
       "array([[  8. , 256. ,  15.6],\n",
       "       [  8. , 512. ,  15.6],\n",
       "       [  4. ,  64. ,  14.1],\n",
       "       [  6. ,  64. ,  14.1],\n",
       "       [  6. , 128. ,  14.1],\n",
       "       [  6. , 128. ,  14.1]])"
      ]
     },
     "execution_count": 42,
     "metadata": {},
     "output_type": "execute_result"
    }
   ],
   "source": [
    "X"
   ]
  },
  {
   "cell_type": "code",
   "execution_count": 43,
   "id": "3fa32a8d",
   "metadata": {},
   "outputs": [],
   "source": [
    "XTX = X.T @ X"
   ]
  },
  {
   "cell_type": "code",
   "execution_count": 48,
   "id": "43158b83",
   "metadata": {},
   "outputs": [],
   "source": [
    "XTX_inv = np.linalg.inv(XTX)"
   ]
  },
  {
   "cell_type": "code",
   "execution_count": 49,
   "id": "87005b6b",
   "metadata": {},
   "outputs": [],
   "source": [
    "y = np.array([1100, 1300, 800, 900, 1000, 1100])"
   ]
  },
  {
   "cell_type": "code",
   "execution_count": 50,
   "id": "7edfc440",
   "metadata": {},
   "outputs": [],
   "source": [
    "w = np.dot(XTX_inv, X.T) @ y"
   ]
  },
  {
   "cell_type": "code",
   "execution_count": 53,
   "id": "e5db11a1",
   "metadata": {},
   "outputs": [
    {
     "data": {
      "text/plain": [
       "91.29988062995815"
      ]
     },
     "execution_count": 53,
     "metadata": {},
     "output_type": "execute_result"
    }
   ],
   "source": [
    "result_sum = w.sum()\n",
    "result_sum"
   ]
  }
 ],
 "metadata": {
  "kernelspec": {
   "display_name": "Python 3 (ipykernel)",
   "language": "python",
   "name": "python3"
  },
  "language_info": {
   "codemirror_mode": {
    "name": "ipython",
    "version": 3
   },
   "file_extension": ".py",
   "mimetype": "text/x-python",
   "name": "python",
   "nbconvert_exporter": "python",
   "pygments_lexer": "ipython3",
   "version": "3.12.3"
  }
 },
 "nbformat": 4,
 "nbformat_minor": 5
}
