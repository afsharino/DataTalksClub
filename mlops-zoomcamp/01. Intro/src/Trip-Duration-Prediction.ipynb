{
 "cells": [
  {
   "cell_type": "markdown",
   "id": "6cb1dcb8",
   "metadata": {},
   "source": [
    "<div align=\"center\">\n",
    "    <img src='../images/duration-prediction-banner2.png' alt='duration-prediction-banner' height=400 width=900/>\n",
    "</div>"
   ]
  },
  {
   "cell_type": "markdown",
   "id": "71c84763",
   "metadata": {},
   "source": [
    "# Import libraries"
   ]
  },
  {
   "cell_type": "code",
   "execution_count": 3,
   "id": "bbc065c1",
   "metadata": {},
   "outputs": [],
   "source": [
    "# Data manipulation\n",
    "import pandas as pd\n",
    "import numpy as np\n",
    "\n",
    "# Data Visualization\n",
    "import matplotlib.pyplot as plt"
   ]
  },
  {
   "cell_type": "markdown",
   "id": "adc6ce27",
   "metadata": {},
   "source": [
    "# Read Dataset"
   ]
  },
  {
   "cell_type": "code",
   "execution_count": null,
   "id": "68baecb2",
   "metadata": {},
   "outputs": [],
   "source": [
    "# Read The dataset in parquet format\n",
    "df = pd.read_parquet(\"../dataset/green_tripdata_2023-01.parquet\")"
   ]
  },
  {
   "cell_type": "markdown",
   "id": "405a8035",
   "metadata": {},
   "source": [
    "# Data Exploration"
   ]
  },
  {
   "cell_type": "code",
   "execution_count": 8,
   "id": "9fa4345c",
   "metadata": {},
   "outputs": [
    {
     "data": {
      "text/html": [
       "<div>\n",
       "<style scoped>\n",
       "    .dataframe tbody tr th:only-of-type {\n",
       "        vertical-align: middle;\n",
       "    }\n",
       "\n",
       "    .dataframe tbody tr th {\n",
       "        vertical-align: top;\n",
       "    }\n",
       "\n",
       "    .dataframe thead th {\n",
       "        text-align: right;\n",
       "    }\n",
       "</style>\n",
       "<table border=\"1\" class=\"dataframe\">\n",
       "  <thead>\n",
       "    <tr style=\"text-align: right;\">\n",
       "      <th></th>\n",
       "      <th>VendorID</th>\n",
       "      <th>lpep_pickup_datetime</th>\n",
       "      <th>lpep_dropoff_datetime</th>\n",
       "      <th>store_and_fwd_flag</th>\n",
       "      <th>RatecodeID</th>\n",
       "      <th>PULocationID</th>\n",
       "      <th>DOLocationID</th>\n",
       "      <th>passenger_count</th>\n",
       "      <th>trip_distance</th>\n",
       "      <th>fare_amount</th>\n",
       "      <th>extra</th>\n",
       "      <th>mta_tax</th>\n",
       "      <th>tip_amount</th>\n",
       "      <th>tolls_amount</th>\n",
       "      <th>ehail_fee</th>\n",
       "      <th>improvement_surcharge</th>\n",
       "      <th>total_amount</th>\n",
       "      <th>payment_type</th>\n",
       "      <th>trip_type</th>\n",
       "      <th>congestion_surcharge</th>\n",
       "    </tr>\n",
       "  </thead>\n",
       "  <tbody>\n",
       "    <tr>\n",
       "      <th>11605</th>\n",
       "      <td>2</td>\n",
       "      <td>2023-01-06 23:17:44</td>\n",
       "      <td>2023-01-06 23:48:17</td>\n",
       "      <td>N</td>\n",
       "      <td>1.0</td>\n",
       "      <td>36</td>\n",
       "      <td>158</td>\n",
       "      <td>1.0</td>\n",
       "      <td>7.50</td>\n",
       "      <td>35.9</td>\n",
       "      <td>1.0</td>\n",
       "      <td>0.5</td>\n",
       "      <td>8.23</td>\n",
       "      <td>0.0</td>\n",
       "      <td>None</td>\n",
       "      <td>1.0</td>\n",
       "      <td>49.38</td>\n",
       "      <td>1.0</td>\n",
       "      <td>1.0</td>\n",
       "      <td>2.75</td>\n",
       "    </tr>\n",
       "    <tr>\n",
       "      <th>20453</th>\n",
       "      <td>1</td>\n",
       "      <td>2023-01-11 14:21:51</td>\n",
       "      <td>2023-01-11 14:28:04</td>\n",
       "      <td>N</td>\n",
       "      <td>1.0</td>\n",
       "      <td>75</td>\n",
       "      <td>74</td>\n",
       "      <td>1.0</td>\n",
       "      <td>1.30</td>\n",
       "      <td>7.9</td>\n",
       "      <td>0.0</td>\n",
       "      <td>1.5</td>\n",
       "      <td>1.85</td>\n",
       "      <td>0.0</td>\n",
       "      <td>None</td>\n",
       "      <td>1.0</td>\n",
       "      <td>11.25</td>\n",
       "      <td>1.0</td>\n",
       "      <td>1.0</td>\n",
       "      <td>0.00</td>\n",
       "    </tr>\n",
       "    <tr>\n",
       "      <th>19370</th>\n",
       "      <td>2</td>\n",
       "      <td>2023-01-10 23:52:35</td>\n",
       "      <td>2023-01-11 20:30:20</td>\n",
       "      <td>N</td>\n",
       "      <td>1.0</td>\n",
       "      <td>7</td>\n",
       "      <td>226</td>\n",
       "      <td>1.0</td>\n",
       "      <td>1.56</td>\n",
       "      <td>10.0</td>\n",
       "      <td>1.0</td>\n",
       "      <td>0.5</td>\n",
       "      <td>2.50</td>\n",
       "      <td>0.0</td>\n",
       "      <td>None</td>\n",
       "      <td>1.0</td>\n",
       "      <td>15.00</td>\n",
       "      <td>1.0</td>\n",
       "      <td>1.0</td>\n",
       "      <td>0.00</td>\n",
       "    </tr>\n",
       "    <tr>\n",
       "      <th>48333</th>\n",
       "      <td>2</td>\n",
       "      <td>2023-01-24 18:00:18</td>\n",
       "      <td>2023-01-24 18:10:29</td>\n",
       "      <td>N</td>\n",
       "      <td>1.0</td>\n",
       "      <td>83</td>\n",
       "      <td>157</td>\n",
       "      <td>1.0</td>\n",
       "      <td>1.28</td>\n",
       "      <td>10.7</td>\n",
       "      <td>2.5</td>\n",
       "      <td>0.5</td>\n",
       "      <td>0.00</td>\n",
       "      <td>0.0</td>\n",
       "      <td>None</td>\n",
       "      <td>1.0</td>\n",
       "      <td>14.70</td>\n",
       "      <td>2.0</td>\n",
       "      <td>1.0</td>\n",
       "      <td>0.00</td>\n",
       "    </tr>\n",
       "    <tr>\n",
       "      <th>47901</th>\n",
       "      <td>2</td>\n",
       "      <td>2023-01-24 16:52:48</td>\n",
       "      <td>2023-01-24 17:01:49</td>\n",
       "      <td>N</td>\n",
       "      <td>1.0</td>\n",
       "      <td>43</td>\n",
       "      <td>74</td>\n",
       "      <td>1.0</td>\n",
       "      <td>1.53</td>\n",
       "      <td>10.7</td>\n",
       "      <td>2.5</td>\n",
       "      <td>0.5</td>\n",
       "      <td>2.94</td>\n",
       "      <td>0.0</td>\n",
       "      <td>None</td>\n",
       "      <td>1.0</td>\n",
       "      <td>17.64</td>\n",
       "      <td>1.0</td>\n",
       "      <td>1.0</td>\n",
       "      <td>0.00</td>\n",
       "    </tr>\n",
       "  </tbody>\n",
       "</table>\n",
       "</div>"
      ],
      "text/plain": [
       "       VendorID lpep_pickup_datetime lpep_dropoff_datetime store_and_fwd_flag  \\\n",
       "11605         2  2023-01-06 23:17:44   2023-01-06 23:48:17                  N   \n",
       "20453         1  2023-01-11 14:21:51   2023-01-11 14:28:04                  N   \n",
       "19370         2  2023-01-10 23:52:35   2023-01-11 20:30:20                  N   \n",
       "48333         2  2023-01-24 18:00:18   2023-01-24 18:10:29                  N   \n",
       "47901         2  2023-01-24 16:52:48   2023-01-24 17:01:49                  N   \n",
       "\n",
       "       RatecodeID  PULocationID  DOLocationID  passenger_count  trip_distance  \\\n",
       "11605         1.0            36           158              1.0           7.50   \n",
       "20453         1.0            75            74              1.0           1.30   \n",
       "19370         1.0             7           226              1.0           1.56   \n",
       "48333         1.0            83           157              1.0           1.28   \n",
       "47901         1.0            43            74              1.0           1.53   \n",
       "\n",
       "       fare_amount  extra  mta_tax  tip_amount  tolls_amount ehail_fee  \\\n",
       "11605         35.9    1.0      0.5        8.23           0.0      None   \n",
       "20453          7.9    0.0      1.5        1.85           0.0      None   \n",
       "19370         10.0    1.0      0.5        2.50           0.0      None   \n",
       "48333         10.7    2.5      0.5        0.00           0.0      None   \n",
       "47901         10.7    2.5      0.5        2.94           0.0      None   \n",
       "\n",
       "       improvement_surcharge  total_amount  payment_type  trip_type  \\\n",
       "11605                    1.0         49.38           1.0        1.0   \n",
       "20453                    1.0         11.25           1.0        1.0   \n",
       "19370                    1.0         15.00           1.0        1.0   \n",
       "48333                    1.0         14.70           2.0        1.0   \n",
       "47901                    1.0         17.64           1.0        1.0   \n",
       "\n",
       "       congestion_surcharge  \n",
       "11605                  2.75  \n",
       "20453                  0.00  \n",
       "19370                  0.00  \n",
       "48333                  0.00  \n",
       "47901                  0.00  "
      ]
     },
     "execution_count": 8,
     "metadata": {},
     "output_type": "execute_result"
    }
   ],
   "source": [
    "# Show Some sample Datapoints \n",
    "df.sample(5)"
   ]
  },
  {
   "cell_type": "markdown",
   "id": "2c51bc76",
   "metadata": {},
   "source": [
    "## Feature Details"
   ]
  },
  {
   "cell_type": "markdown",
   "id": "ec6d3289",
   "metadata": {},
   "source": [
    "The Data Dictionary Downloaded from this [link](https://www.nyc.gov/assets/tlc/downloads/pdf/data_dictionary_trip_records_green.pdf)."
   ]
  },
  {
   "cell_type": "markdown",
   "id": "87164ba3",
   "metadata": {},
   "source": [
    "| Feature           | Feature Description |\n",
    "| :---------------- | :----------------- |\n",
    "| **VendorID**      |   A code indicating the LPEP provider that provided the record.</br>1 = Creative Mobile Technologies, LLC</br>2 = Curb Mobility, LLC</br>6 = Myle Technologies Inc   |\n",
    "| **lpep_pickup_datetime**          |   The date and time when the meter was engaged.   |\n",
    "| **lpep_dropoff_datetime**   |  The date and time when the meter was disengaged.    |\n",
    "| **store_and_fwd_flag** |  This flag indicates whether the trip record was held in vehicle memory before sending to the vendor, aka “store and forward,” because the vehicle did not have a connection to the server.   |\n",
    "| **RatecodeID** |  The final rate code in effect at the end of the trip.</br>1 = Standard rate</br>2 = JFK</br>3 = Newark</br>4 = Nassau or Westchester</br>5 = Negotiated fare</br>6 = Group ride</br>99 = Null/unknown   |\n",
    "| **PULocationID** |  TLC Taxi Zone in which the taximeter was engaged.   |\n",
    "| **DOLocationID** |  TLC Taxi Zone in which the taximeter was disengaged.   |\n",
    "| **passenger_count** |  The number of passengers in the vehicle.   |\n",
    "| **trip_distance** |  The elapsed trip distance in miles reported by the taximeter.   |\n",
    "| **fare_amount** |  The time-and-distance fare calculated by the meter. For additional information on the following columns, see https://www.nyc.gov/site/tlc/passengers/taxi-fare.page   |\n",
    "| **extra** |  Miscellaneous extras and surcharges.   |\n",
    "| **mta_tax** |  Tax that is automatically triggered based on the metered rate in use.   |\n",
    "| **tip_amount** |  Tip amount – This field is automatically populated for credit card tips. Cash tips are not included.   |\n",
    "| **tolls_amount** |  Total amount of all tolls paid in trip.   |\n",
    "| **improvement_surcharge** |  Improvement surcharge assessed trips at the flag drop. The improvement surcharge began being levied in 2015.   |\n",
    "| **total_amount** |  The total amount charged to passengers. Does not include cash tips.   |\n",
    "| **payment_type** |  A numeric code signifying how the passenger paid for the trip.</br>0 = Flex Fare trip</br>1 = Credit card</br>2 = Cash</br>3 = No charge</br>4 = Dispute</br>5 = Unknown</br>6 = Voided trip   |\n",
    "| **trip_type** |  A code indicating whether the trip was a street-hail or a dispatch that is automatically assigned based on the metered rate in use but can be altered by the driver.</br>1 = Street-hail</br>2 = Dispatch   |\n",
    "| **congestion_surcharge** |  Total amount collected in trip for NYS congestion surcharge.   |\n",
    "| **cbd_congestion_fee** |  Per-trip charge for MTA's Congestion Relief Zone starting Jan. 5, 2025. <mark>(Not Important for this dataset)</mark>  |\n"
   ]
  },
  {
   "cell_type": "code",
   "execution_count": null,
   "id": "2985d36e",
   "metadata": {},
   "outputs": [
    {
     "name": "stdout",
     "output_type": "stream",
     "text": [
      "There are 68211 datapoints and 20 features in this dataset\n"
     ]
    }
   ],
   "source": [
    "# Shape of the dataset\n",
    "print(f\"There are {df.shape[0]} datapoints and {df.shape[1]} features in this dataset.\")"
   ]
  },
  {
   "cell_type": "code",
   "execution_count": 12,
   "id": "00126cc7",
   "metadata": {},
   "outputs": [
    {
     "data": {
      "text/plain": [
       "VendorID                     0\n",
       "lpep_pickup_datetime         0\n",
       "lpep_dropoff_datetime        0\n",
       "store_and_fwd_flag        4324\n",
       "RatecodeID                4324\n",
       "PULocationID                 0\n",
       "DOLocationID                 0\n",
       "passenger_count           4324\n",
       "trip_distance                0\n",
       "fare_amount                  0\n",
       "extra                        0\n",
       "mta_tax                      0\n",
       "tip_amount                   0\n",
       "tolls_amount                 0\n",
       "ehail_fee                68211\n",
       "improvement_surcharge        0\n",
       "total_amount                 0\n",
       "payment_type              4324\n",
       "trip_type                 4334\n",
       "congestion_surcharge      4324\n",
       "dtype: int64"
      ]
     },
     "execution_count": 12,
     "metadata": {},
     "output_type": "execute_result"
    }
   ],
   "source": [
    "#Check for NaN values\n",
    "df.isnull().sum()"
   ]
  },
  {
   "cell_type": "code",
   "execution_count": null,
   "id": "d2574a03",
   "metadata": {},
   "outputs": [],
   "source": []
  },
  {
   "cell_type": "code",
   "execution_count": null,
   "id": "510b4c0c",
   "metadata": {},
   "outputs": [],
   "source": []
  }
 ],
 "metadata": {
  "kernelspec": {
   "display_name": "mlops-zoomcamp",
   "language": "python",
   "name": "python3"
  },
  "language_info": {
   "codemirror_mode": {
    "name": "ipython",
    "version": 3
   },
   "file_extension": ".py",
   "mimetype": "text/x-python",
   "name": "python",
   "nbconvert_exporter": "python",
   "pygments_lexer": "ipython3",
   "version": "3.13.2"
  }
 },
 "nbformat": 4,
 "nbformat_minor": 5
}
