{
 "cells": [
  {
   "cell_type": "markdown",
   "id": "6cb1dcb8",
   "metadata": {},
   "source": [
    "<div align=\"center\">\n",
    "    <img src='../images/duration-prediction-banner2.png' alt='duration-prediction-banner' height=400 width=900/>\n",
    "</div>"
   ]
  },
  {
   "cell_type": "markdown",
   "id": "71c84763",
   "metadata": {},
   "source": [
    "# Import libraries"
   ]
  },
  {
   "cell_type": "code",
   "execution_count": null,
   "id": "bbc065c1",
   "metadata": {},
   "outputs": [],
   "source": [
    "# Data manipulation\n",
    "import pandas as pd\n",
    "import numpy as np\n",
    "\n",
    "# Data Visualization\n",
    "import matplotlib.pyplot as plt"
   ]
  }
 ],
 "metadata": {
  "kernelspec": {
   "display_name": "mlops-zoomcamp",
   "language": "python",
   "name": "python3"
  },
  "language_info": {
   "name": "python",
   "version": "3.13.2"
  }
 },
 "nbformat": 4,
 "nbformat_minor": 5
}
