{
 "cells": [
  {
   "cell_type": "markdown",
   "id": "a3d91d5b",
   "metadata": {},
   "source": [
    "<div align=\"center\">\n",
    "    <img src='../images/hw1.png' alt='hw1-log'/>\n",
    "</div>"
   ]
  },
  {
   "cell_type": "markdown",
   "id": "5f5cd690",
   "metadata": {},
   "source": [
    "## Import Libraries"
   ]
  },
  {
   "cell_type": "code",
   "execution_count": 12,
   "id": "142222d2",
   "metadata": {},
   "outputs": [],
   "source": [
    "# Scientific\n",
    "import pandas as pd\n",
    "import numpy as np"
   ]
  },
  {
   "cell_type": "markdown",
   "id": "ce63e9af",
   "metadata": {},
   "source": [
    "## Download Dataset"
   ]
  },
  {
   "cell_type": "code",
   "execution_count": 13,
   "id": "076fecfc",
   "metadata": {},
   "outputs": [],
   "source": [
    "#!wget https://raw.githubusercontent.com/alexeygrigorev/datasets/master/housing.csv"
   ]
  },
  {
   "cell_type": "markdown",
   "id": "63a03395",
   "metadata": {},
   "source": [
    "## Load Dataset"
   ]
  },
  {
   "cell_type": "code",
   "execution_count": 14,
   "id": "514c67cb",
   "metadata": {},
   "outputs": [],
   "source": [
    "data = pd.read_csv('../dataset/housing.csv')"
   ]
  },
  {
   "cell_type": "markdown",
   "id": "be025d7e",
   "metadata": {},
   "source": [
    "## Question 1: What's the version of Pandas that you installed?"
   ]
  },
  {
   "cell_type": "code",
   "execution_count": 15,
   "id": "8594f45f",
   "metadata": {},
   "outputs": [
    {
     "data": {
      "text/plain": [
       "'2.0.3'"
      ]
     },
     "execution_count": 15,
     "metadata": {},
     "output_type": "execute_result"
    }
   ],
   "source": [
    "pd.__version__"
   ]
  },
  {
   "cell_type": "markdown",
   "id": "69e10192",
   "metadata": {},
   "source": [
    "## Question 2: How many columns are in the dataset?"
   ]
  },
  {
   "cell_type": "code",
   "execution_count": 16,
   "id": "af48aa8a",
   "metadata": {},
   "outputs": [
    {
     "data": {
      "text/plain": [
       "10"
      ]
     },
     "execution_count": 16,
     "metadata": {},
     "output_type": "execute_result"
    }
   ],
   "source": [
    "len(data.columns)"
   ]
  },
  {
   "cell_type": "markdown",
   "id": "1e901d86",
   "metadata": {},
   "source": [
    "## Question 3: Which columns in the dataset have missing values?"
   ]
  },
  {
   "cell_type": "code",
   "execution_count": 17,
   "id": "69ec4a8b",
   "metadata": {},
   "outputs": [
    {
     "name": "stdout",
     "output_type": "stream",
     "text": [
      "total_bedrooms\n"
     ]
    }
   ],
   "source": [
    "for column in data.columns:\n",
    "    if data[column].isna().any() == True:\n",
    "        print(column)"
   ]
  },
  {
   "cell_type": "code",
   "execution_count": 18,
   "id": "dc0a220f",
   "metadata": {},
   "outputs": [
    {
     "name": "stdout",
     "output_type": "stream",
     "text": [
      "<class 'pandas.core.frame.DataFrame'>\n",
      "RangeIndex: 20640 entries, 0 to 20639\n",
      "Data columns (total 10 columns):\n",
      " #   Column              Non-Null Count  Dtype  \n",
      "---  ------              --------------  -----  \n",
      " 0   longitude           20640 non-null  float64\n",
      " 1   latitude            20640 non-null  float64\n",
      " 2   housing_median_age  20640 non-null  float64\n",
      " 3   total_rooms         20640 non-null  float64\n",
      " 4   total_bedrooms      20433 non-null  float64\n",
      " 5   population          20640 non-null  float64\n",
      " 6   households          20640 non-null  float64\n",
      " 7   median_income       20640 non-null  float64\n",
      " 8   median_house_value  20640 non-null  float64\n",
      " 9   ocean_proximity     20640 non-null  object \n",
      "dtypes: float64(9), object(1)\n",
      "memory usage: 1.6+ MB\n"
     ]
    }
   ],
   "source": [
    "data.info()"
   ]
  },
  {
   "cell_type": "markdown",
   "id": "72f2e166",
   "metadata": {},
   "source": [
    "## Question 4: How many unique values does the ```ocean_proximity``` column have?\n"
   ]
  },
  {
   "cell_type": "code",
   "execution_count": 19,
   "id": "d796c838",
   "metadata": {},
   "outputs": [
    {
     "data": {
      "text/plain": [
       "5"
      ]
     },
     "execution_count": 19,
     "metadata": {},
     "output_type": "execute_result"
    }
   ],
   "source": [
    "len(data.ocean_proximity.value_counts())"
   ]
  },
  {
   "cell_type": "code",
   "execution_count": 20,
   "id": "3f07356a",
   "metadata": {},
   "outputs": [
    {
     "data": {
      "text/plain": [
       "5"
      ]
     },
     "execution_count": 20,
     "metadata": {},
     "output_type": "execute_result"
    }
   ],
   "source": [
    "len(np.unique(data.ocean_proximity))"
   ]
  },
  {
   "cell_type": "markdown",
   "id": "5d99742b",
   "metadata": {},
   "source": [
    "## Question 5: What's the average value of the ```median_house_value``` for the houses located near the bay?"
   ]
  },
  {
   "cell_type": "code",
   "execution_count": 21,
   "id": "95598ea8",
   "metadata": {},
   "outputs": [
    {
     "data": {
      "text/plain": [
       "259212.31179039303"
      ]
     },
     "execution_count": 21,
     "metadata": {},
     "output_type": "execute_result"
    }
   ],
   "source": [
    "np.mean(data.median_house_value[data.ocean_proximity=='NEAR BAY'])"
   ]
  },
  {
   "cell_type": "markdown",
   "id": "ed0d7019",
   "metadata": {},
   "source": [
    "## Question 6: Follow the bellow steps\n",
    "1. Calculate the average of ```total_bedrooms``` column in the dataset.\n",
    "2. Use the fillna method to fill the missing values in ```total_bedrooms``` with the mean value from the previous step.\n",
    "3. Now, calculate the average of ```total_bedrooms``` again.\n",
    "4. Has it changed?"
   ]
  },
  {
   "cell_type": "code",
   "execution_count": 22,
   "id": "d88b0f72",
   "metadata": {},
   "outputs": [
    {
     "data": {
      "text/plain": [
       "537.8705525375618"
      ]
     },
     "execution_count": 22,
     "metadata": {},
     "output_type": "execute_result"
    }
   ],
   "source": [
    "mean_value = data.total_bedrooms.mean()\n",
    "mean_value"
   ]
  },
  {
   "cell_type": "code",
   "execution_count": 23,
   "id": "726ef13f",
   "metadata": {},
   "outputs": [],
   "source": [
    "data.total_bedrooms.fillna(value=mean_value, inplace = True)"
   ]
  },
  {
   "cell_type": "code",
   "execution_count": 24,
   "id": "1c9e74dd",
   "metadata": {},
   "outputs": [
    {
     "name": "stdout",
     "output_type": "stream",
     "text": [
      "No!\n"
     ]
    }
   ],
   "source": [
    "if np.isclose(data.total_bedrooms.mean(), mean_value) == True:\n",
    "    print(f'No!')\n",
    "else:\n",
    "    print(f'Yes!')"
   ]
  },
  {
   "cell_type": "markdown",
   "id": "7bb18129",
   "metadata": {},
   "source": [
    "## Question 6: Follow the bellow steps\n",
    "1. Select all the options located on islands.\n",
    "2. Select only columns ```housing_median_age```, ```total_rooms```, ```total_bedrooms```.\n",
    "3. Get the underlying NumPy array. Let's call it ```X```.\n",
    "4. Compute matrix-matrix multiplication between the transpose of ```X``` and ```X```. To get the transpose, use ```X.T```. Let's call the result ```XTX```.\n",
    "5. Compute the inverse of ```XTX```.\n",
    "6. Create an array ```y``` with values ```[950, 1300, 800, 1000, 1300]```.\n",
    "7. Multiply the inverse of ```XTX``` with the transpose of ```X```, and then multiply the result by ```y```. Call the result ```w```.\n",
    "8. What's the value of the last element of ```w```?"
   ]
  },
  {
   "cell_type": "code",
   "execution_count": 25,
   "id": "f0c21a7c",
   "metadata": {},
   "outputs": [],
   "source": [
    "X = data[data['ocean_proximity'] == 'ISLAND'][['housing_median_age', 'total_rooms', 'total_bedrooms']].values"
   ]
  },
  {
   "cell_type": "code",
   "execution_count": 26,
   "id": "3c756b2e",
   "metadata": {},
   "outputs": [
    {
     "data": {
      "text/plain": [
       "array([[  27., 1675.,  521.],\n",
       "       [  52., 2359.,  591.],\n",
       "       [  52., 2127.,  512.],\n",
       "       [  52.,  996.,  264.],\n",
       "       [  29.,  716.,  214.]])"
      ]
     },
     "execution_count": 26,
     "metadata": {},
     "output_type": "execute_result"
    }
   ],
   "source": [
    "X"
   ]
  },
  {
   "cell_type": "code",
   "execution_count": 37,
   "id": "3fa32a8d",
   "metadata": {},
   "outputs": [],
   "source": [
    "XTX = X.T @ X"
   ]
  },
  {
   "cell_type": "code",
   "execution_count": 38,
   "id": "87005b6b",
   "metadata": {},
   "outputs": [],
   "source": [
    "y = np.array([950, 1300, 800, 1000, 1300])"
   ]
  },
  {
   "cell_type": "code",
   "execution_count": 39,
   "id": "7edfc440",
   "metadata": {},
   "outputs": [],
   "source": [
    "w = np.dot(np.linalg.inv(XTX), X.T) @ y"
   ]
  },
  {
   "cell_type": "code",
   "execution_count": 40,
   "id": "e5db11a1",
   "metadata": {},
   "outputs": [
    {
     "data": {
      "text/plain": [
       "5.699229455065586"
      ]
     },
     "execution_count": 40,
     "metadata": {},
     "output_type": "execute_result"
    }
   ],
   "source": [
    "w[-1]"
   ]
  }
 ],
 "metadata": {
  "kernelspec": {
   "display_name": "Python 3 (ipykernel)",
   "language": "python",
   "name": "python3"
  },
  "language_info": {
   "codemirror_mode": {
    "name": "ipython",
    "version": 3
   },
   "file_extension": ".py",
   "mimetype": "text/x-python",
   "name": "python",
   "nbconvert_exporter": "python",
   "pygments_lexer": "ipython3",
   "version": "3.11.4"
  }
 },
 "nbformat": 4,
 "nbformat_minor": 5
}
