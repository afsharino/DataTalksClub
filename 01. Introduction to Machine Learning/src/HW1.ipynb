{
 "cells": [
  {
   "cell_type": "markdown",
   "id": "71af5cc0",
   "metadata": {},
   "source": [
    "<div align=\"center\">\n",
    "    <img src='../images/hw1.png' alt='hw1-log'/>\n",
    "</div>"
   ]
  },
  {
   "cell_type": "markdown",
   "id": "08816a62",
   "metadata": {},
   "source": [
    "# Import Libraries"
   ]
  },
  {
   "cell_type": "code",
   "execution_count": 3,
   "id": "a2713cbd",
   "metadata": {},
   "outputs": [],
   "source": [
    "# Scientific\n",
    "import pandas as pd\n",
    "import numpy as np"
   ]
  },
  {
   "cell_type": "markdown",
   "id": "36521cc3",
   "metadata": {},
   "source": [
    "# Download Dataset"
   ]
  },
  {
   "cell_type": "code",
   "execution_count": 6,
   "id": "8c452617",
   "metadata": {},
   "outputs": [],
   "source": [
    "#!wget https://raw.githubusercontent.com/alexeygrigorev/datasets/master/housing.csv"
   ]
  },
  {
   "cell_type": "markdown",
   "id": "a431c1b2",
   "metadata": {},
   "source": [
    "# Load Dataset"
   ]
  },
  {
   "cell_type": "code",
   "execution_count": 7,
   "id": "9dc3d1b9",
   "metadata": {},
   "outputs": [],
   "source": [
    "data = pd.read_csv('../dataset/housing.csv')"
   ]
  },
  {
   "cell_type": "markdown",
   "id": "8bb41e94",
   "metadata": {},
   "source": [
    "## Question 1: What's the version of Pandas that you installed?"
   ]
  },
  {
   "cell_type": "code",
   "execution_count": 8,
   "id": "dcaab73d",
   "metadata": {},
   "outputs": [
    {
     "data": {
      "text/plain": [
       "'2.0.3'"
      ]
     },
     "execution_count": 8,
     "metadata": {},
     "output_type": "execute_result"
    }
   ],
   "source": [
    "pd.__version__"
   ]
  },
  {
   "cell_type": "markdown",
   "id": "d58b2437",
   "metadata": {},
   "source": [
    "## Question 2: How many columns are in the dataset?"
   ]
  },
  {
   "cell_type": "code",
   "execution_count": 9,
   "id": "dfc34f67",
   "metadata": {},
   "outputs": [
    {
     "data": {
      "text/plain": [
       "10"
      ]
     },
     "execution_count": 9,
     "metadata": {},
     "output_type": "execute_result"
    }
   ],
   "source": [
    "len(data.columns)"
   ]
  },
  {
   "cell_type": "markdown",
   "id": "8ec2d54e",
   "metadata": {},
   "source": [
    "## Question 3: Which columns in the dataset have missing values?"
   ]
  },
  {
   "cell_type": "code",
   "execution_count": 26,
   "id": "12d566ec",
   "metadata": {},
   "outputs": [
    {
     "name": "stdout",
     "output_type": "stream",
     "text": [
      "total_bedrooms\n"
     ]
    }
   ],
   "source": [
    "for column in data.columns:\n",
    "    if data[column].isna().any() == True:\n",
    "        print(column)"
   ]
  },
  {
   "cell_type": "code",
   "execution_count": 27,
   "id": "dc290391",
   "metadata": {},
   "outputs": [
    {
     "name": "stdout",
     "output_type": "stream",
     "text": [
      "<class 'pandas.core.frame.DataFrame'>\n",
      "RangeIndex: 20640 entries, 0 to 20639\n",
      "Data columns (total 10 columns):\n",
      " #   Column              Non-Null Count  Dtype  \n",
      "---  ------              --------------  -----  \n",
      " 0   longitude           20640 non-null  float64\n",
      " 1   latitude            20640 non-null  float64\n",
      " 2   housing_median_age  20640 non-null  float64\n",
      " 3   total_rooms         20640 non-null  float64\n",
      " 4   total_bedrooms      20433 non-null  float64\n",
      " 5   population          20640 non-null  float64\n",
      " 6   households          20640 non-null  float64\n",
      " 7   median_income       20640 non-null  float64\n",
      " 8   median_house_value  20640 non-null  float64\n",
      " 9   ocean_proximity     20640 non-null  object \n",
      "dtypes: float64(9), object(1)\n",
      "memory usage: 1.6+ MB\n"
     ]
    }
   ],
   "source": [
    "data.info()"
   ]
  },
  {
   "cell_type": "markdown",
   "id": "bc085876",
   "metadata": {},
   "source": [
    "## Question 4: How many unique values does the ```ocean_proximity``` column have?\n"
   ]
  },
  {
   "cell_type": "code",
   "execution_count": 28,
   "id": "60caedca",
   "metadata": {},
   "outputs": [
    {
     "data": {
      "text/plain": [
       "5"
      ]
     },
     "execution_count": 28,
     "metadata": {},
     "output_type": "execute_result"
    }
   ],
   "source": [
    "len(data.ocean_proximity.value_counts())"
   ]
  },
  {
   "cell_type": "code",
   "execution_count": 29,
   "id": "6937a2a7",
   "metadata": {},
   "outputs": [
    {
     "data": {
      "text/plain": [
       "5"
      ]
     },
     "execution_count": 29,
     "metadata": {},
     "output_type": "execute_result"
    }
   ],
   "source": [
    "len(np.unique(data.ocean_proximity))"
   ]
  },
  {
   "cell_type": "markdown",
   "id": "c7c7386e",
   "metadata": {},
   "source": [
    "## Question 5: What's the average value of the ```median_house_value``` for the houses located near the bay?"
   ]
  },
  {
   "cell_type": "code",
   "execution_count": 31,
   "id": "a3b2e95f",
   "metadata": {},
   "outputs": [
    {
     "data": {
      "text/plain": [
       "259212.31179039303"
      ]
     },
     "execution_count": 31,
     "metadata": {},
     "output_type": "execute_result"
    }
   ],
   "source": [
    "np.mean(data.median_house_value[data.ocean_proximity=='NEAR BAY'])"
   ]
  },
  {
   "cell_type": "markdown",
   "id": "eabe2a45",
   "metadata": {},
   "source": [
    "## Question 6: Follow the bellow steps\n",
    "1. Calculate the average of ```total_bedrooms``` column in the dataset.\n",
    "2. Use the fillna method to fill the missing values in ```total_bedrooms``` with the mean value from the previous step.\n",
    "3. Now, calculate the average of ```total_bedrooms``` again.\n",
    "4. Has it changed?"
   ]
  },
  {
   "cell_type": "code",
   "execution_count": 33,
   "id": "936a9d5d",
   "metadata": {},
   "outputs": [
    {
     "data": {
      "text/plain": [
       "537.8705525375618"
      ]
     },
     "execution_count": 33,
     "metadata": {},
     "output_type": "execute_result"
    }
   ],
   "source": [
    "mean_value = data.total_bedrooms.mean()\n",
    "mean_value"
   ]
  },
  {
   "cell_type": "code",
   "execution_count": 34,
   "id": "11102c77",
   "metadata": {},
   "outputs": [],
   "source": [
    "data.total_bedrooms.fillna(value=mean_value, inplace = True)"
   ]
  },
  {
   "cell_type": "code",
   "execution_count": 35,
   "id": "a702d231",
   "metadata": {},
   "outputs": [
    {
     "name": "stdout",
     "output_type": "stream",
     "text": [
      "No!\n"
     ]
    }
   ],
   "source": [
    "if np.isclose(data.total_bedrooms.mean(), mean_value) == True:\n",
    "    print(f'No!')\n",
    "else:\n",
    "    print(f'Yes!')"
   ]
  },
  {
   "cell_type": "markdown",
   "id": "644cb342",
   "metadata": {},
   "source": [
    "## Question 6: Follow the bellow steps\n",
    "1. Select all the options located on islands.\n",
    "2. Select only columns ```housing_median_age```, ```total_rooms```, ```total_bedrooms```.\n",
    "3. Get the underlying NumPy array. Let's call it ```X```.\n",
    "4. Compute matrix-matrix multiplication between the transpose of ```X``` and ```X```. To get the transpose, use ```X.T```. Let's call the result ```XTX```.\n",
    "5. Compute the inverse of ```XTX```.\n",
    "6. Create an array ```y``` with values ```[950, 1300, 800, 1000, 1300]```.\n",
    "7. Multiply the inverse of ```XTX``` with the transpose of ```X```, and then multiply the result by ```y```. Call the result ```w```.\n",
    "8. What's the value of the last element of ```w```?"
   ]
  },
  {
   "cell_type": "code",
   "execution_count": 36,
   "id": "1f5371e6",
   "metadata": {},
   "outputs": [],
   "source": [
    "X = data[data['ocean_proximity'] == 'ISLAND'][['housing_median_age', 'total_rooms', 'total_bedrooms']].values"
   ]
  },
  {
   "cell_type": "code",
   "execution_count": 37,
   "id": "ace9645a",
   "metadata": {},
   "outputs": [],
   "source": [
    "XTX = X.T @ X"
   ]
  },
  {
   "cell_type": "code",
   "execution_count": 38,
   "id": "8d90e5ee",
   "metadata": {},
   "outputs": [],
   "source": [
    "y = np.array([950, 1300, 800, 1000, 1300])"
   ]
  },
  {
   "cell_type": "code",
   "execution_count": 39,
   "id": "90cf46eb",
   "metadata": {},
   "outputs": [],
   "source": [
    "w = np.dot(np.linalg.inv(XTX), X.T) @ y"
   ]
  },
  {
   "cell_type": "code",
   "execution_count": 40,
   "id": "2f0789d6",
   "metadata": {},
   "outputs": [
    {
     "data": {
      "text/plain": [
       "5.699229455065586"
      ]
     },
     "execution_count": 40,
     "metadata": {},
     "output_type": "execute_result"
    }
   ],
   "source": [
    "w[-1]"
   ]
  }
 ],
 "metadata": {
  "kernelspec": {
   "display_name": "Python 3 (ipykernel)",
   "language": "python",
   "name": "python3"
  },
  "language_info": {
   "codemirror_mode": {
    "name": "ipython",
    "version": 3
   },
   "file_extension": ".py",
   "mimetype": "text/x-python",
   "name": "python",
   "nbconvert_exporter": "python",
   "pygments_lexer": "ipython3",
   "version": "3.11.4"
  }
 },
 "nbformat": 4,
 "nbformat_minor": 5
}
