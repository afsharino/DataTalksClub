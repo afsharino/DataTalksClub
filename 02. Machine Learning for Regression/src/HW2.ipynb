{
 "cells": [
  {
   "cell_type": "markdown",
   "id": "e84ae2bd",
   "metadata": {},
   "source": [
    "<div align=\"center\">\n",
    "    <img src='../images/hw2.png' alt='hw1-log'/>\n",
    "</div>"
   ]
  },
  {
   "cell_type": "markdown",
   "id": "d28ecdb0",
   "metadata": {},
   "source": [
    "## Import Libraries"
   ]
  },
  {
   "cell_type": "code",
   "execution_count": 129,
   "id": "306b9e33",
   "metadata": {},
   "outputs": [],
   "source": [
    "# Scientific\n",
    "import pandas as pd\n",
    "import numpy as np\n",
    "\n",
    "# Visualization\n",
    "import matplotlib.pyplot as plt"
   ]
  },
  {
   "cell_type": "markdown",
   "id": "82da27b2",
   "metadata": {},
   "source": [
    "## Download Dataset"
   ]
  },
  {
   "cell_type": "code",
   "execution_count": 2,
   "id": "6a1facec",
   "metadata": {},
   "outputs": [
    {
     "name": "stdout",
     "output_type": "stream",
     "text": [
      "--2023-09-26 16:54:08--  https://raw.githubusercontent.com/alexeygrigorev/datasets/master/housing.csv\n",
      "Loaded CA certificate '/etc/ssl/certs/ca-certificates.crt'\n",
      "Resolving raw.githubusercontent.com (raw.githubusercontent.com)... 185.199.109.133, 185.199.111.133, 185.199.108.133, ...\n",
      "Connecting to raw.githubusercontent.com (raw.githubusercontent.com)|185.199.109.133|:443... connected.\n",
      "HTTP request sent, awaiting response... 200 OK\n",
      "Length: 1423529 (1.4M) [text/plain]\n",
      "Saving to: ‘housing.csv’\n",
      "\n",
      "housing.csv         100%[===================>]   1.36M   783KB/s    in 1.8s    \n",
      "\n",
      "2023-09-26 16:54:10 (783 KB/s) - ‘housing.csv’ saved [1423529/1423529]\n",
      "\n"
     ]
    }
   ],
   "source": [
    "!wget https://raw.githubusercontent.com/alexeygrigorev/datasets/master/housing.csv"
   ]
  },
  {
   "cell_type": "markdown",
   "id": "5baf9356",
   "metadata": {},
   "source": [
    "## Load Dataset"
   ]
  },
  {
   "cell_type": "code",
   "execution_count": 130,
   "id": "fe71c1ac",
   "metadata": {},
   "outputs": [],
   "source": [
    "data = pd.read_csv('../dataset/housing.csv')"
   ]
  },
  {
   "cell_type": "markdown",
   "id": "048972cd",
   "metadata": {},
   "source": [
    "## EDA\n",
    " - Look at the ```median_house_value``` variable. Does it have a long tail?"
   ]
  },
  {
   "cell_type": "code",
   "execution_count": 131,
   "id": "d5dc2c8e",
   "metadata": {},
   "outputs": [
    {
     "data": {
      "text/html": [
       "<div>\n",
       "<style scoped>\n",
       "    .dataframe tbody tr th:only-of-type {\n",
       "        vertical-align: middle;\n",
       "    }\n",
       "\n",
       "    .dataframe tbody tr th {\n",
       "        vertical-align: top;\n",
       "    }\n",
       "\n",
       "    .dataframe thead th {\n",
       "        text-align: right;\n",
       "    }\n",
       "</style>\n",
       "<table border=\"1\" class=\"dataframe\">\n",
       "  <thead>\n",
       "    <tr style=\"text-align: right;\">\n",
       "      <th></th>\n",
       "      <th>longitude</th>\n",
       "      <th>latitude</th>\n",
       "      <th>housing_median_age</th>\n",
       "      <th>total_rooms</th>\n",
       "      <th>total_bedrooms</th>\n",
       "      <th>population</th>\n",
       "      <th>households</th>\n",
       "      <th>median_income</th>\n",
       "      <th>median_house_value</th>\n",
       "      <th>ocean_proximity</th>\n",
       "    </tr>\n",
       "  </thead>\n",
       "  <tbody>\n",
       "    <tr>\n",
       "      <th>0</th>\n",
       "      <td>-122.23</td>\n",
       "      <td>37.88</td>\n",
       "      <td>41.0</td>\n",
       "      <td>880.0</td>\n",
       "      <td>129.0</td>\n",
       "      <td>322.0</td>\n",
       "      <td>126.0</td>\n",
       "      <td>8.3252</td>\n",
       "      <td>452600.0</td>\n",
       "      <td>NEAR BAY</td>\n",
       "    </tr>\n",
       "    <tr>\n",
       "      <th>1</th>\n",
       "      <td>-122.22</td>\n",
       "      <td>37.86</td>\n",
       "      <td>21.0</td>\n",
       "      <td>7099.0</td>\n",
       "      <td>1106.0</td>\n",
       "      <td>2401.0</td>\n",
       "      <td>1138.0</td>\n",
       "      <td>8.3014</td>\n",
       "      <td>358500.0</td>\n",
       "      <td>NEAR BAY</td>\n",
       "    </tr>\n",
       "    <tr>\n",
       "      <th>2</th>\n",
       "      <td>-122.24</td>\n",
       "      <td>37.85</td>\n",
       "      <td>52.0</td>\n",
       "      <td>1467.0</td>\n",
       "      <td>190.0</td>\n",
       "      <td>496.0</td>\n",
       "      <td>177.0</td>\n",
       "      <td>7.2574</td>\n",
       "      <td>352100.0</td>\n",
       "      <td>NEAR BAY</td>\n",
       "    </tr>\n",
       "    <tr>\n",
       "      <th>3</th>\n",
       "      <td>-122.25</td>\n",
       "      <td>37.85</td>\n",
       "      <td>52.0</td>\n",
       "      <td>1274.0</td>\n",
       "      <td>235.0</td>\n",
       "      <td>558.0</td>\n",
       "      <td>219.0</td>\n",
       "      <td>5.6431</td>\n",
       "      <td>341300.0</td>\n",
       "      <td>NEAR BAY</td>\n",
       "    </tr>\n",
       "    <tr>\n",
       "      <th>4</th>\n",
       "      <td>-122.25</td>\n",
       "      <td>37.85</td>\n",
       "      <td>52.0</td>\n",
       "      <td>1627.0</td>\n",
       "      <td>280.0</td>\n",
       "      <td>565.0</td>\n",
       "      <td>259.0</td>\n",
       "      <td>3.8462</td>\n",
       "      <td>342200.0</td>\n",
       "      <td>NEAR BAY</td>\n",
       "    </tr>\n",
       "  </tbody>\n",
       "</table>\n",
       "</div>"
      ],
      "text/plain": [
       "   longitude  latitude  housing_median_age  total_rooms  total_bedrooms  \\\n",
       "0    -122.23     37.88                41.0        880.0           129.0   \n",
       "1    -122.22     37.86                21.0       7099.0          1106.0   \n",
       "2    -122.24     37.85                52.0       1467.0           190.0   \n",
       "3    -122.25     37.85                52.0       1274.0           235.0   \n",
       "4    -122.25     37.85                52.0       1627.0           280.0   \n",
       "\n",
       "   population  households  median_income  median_house_value ocean_proximity  \n",
       "0       322.0       126.0         8.3252            452600.0        NEAR BAY  \n",
       "1      2401.0      1138.0         8.3014            358500.0        NEAR BAY  \n",
       "2       496.0       177.0         7.2574            352100.0        NEAR BAY  \n",
       "3       558.0       219.0         5.6431            341300.0        NEAR BAY  \n",
       "4       565.0       259.0         3.8462            342200.0        NEAR BAY  "
      ]
     },
     "execution_count": 131,
     "metadata": {},
     "output_type": "execute_result"
    }
   ],
   "source": [
    "data.head()"
   ]
  },
  {
   "cell_type": "code",
   "execution_count": 132,
   "id": "9ee6f0c8",
   "metadata": {},
   "outputs": [
    {
     "data": {
      "image/png": "[encoded data removed]",
      "text/plain": [
       "<Figure size 1000x500 with 1 Axes>"
      ]
     },
     "metadata": {},
     "output_type": "display_data"
    }
   ],
   "source": [
    "data.median_house_value.hist(figsize=(10,5))\n",
    "plt.show()"
   ]
  },
  {
   "cell_type": "markdown",
   "id": "efb3e250",
   "metadata": {},
   "source": [
    "As We can see it has a long tail. so the answer is yes."
   ]
  },
  {
   "cell_type": "markdown",
   "id": "e516ef3e",
   "metadata": {},
   "source": [
    "## Preparing the dataset\n",
    "For this homework, we only want to use a subset of data.\n",
    "First, keep only the records where ```ocean_proximity``` is either ```'<1H OCEAN'``` or ```'INLAND'```\n",
    "\n",
    "Next, use only the following columns:\n",
    "\n",
    "- ```'latitude'```,\n",
    "- ```'longitude'```,\n",
    "- ```'housing_median_age'```,\n",
    "- ```'total_rooms'```,\n",
    "- ```'total_bedrooms'```,\n",
    "- ```'population'```,\n",
    "- ```'households'```,\n",
    "- ```'median_income'```,\n",
    "- ```'median_house_value'```"
   ]
  },
  {
   "cell_type": "code",
   "execution_count": 133,
   "id": "651f67eb",
   "metadata": {},
   "outputs": [],
   "source": [
    "filtered_data = data[(data['ocean_proximity'] == '<1H OCEAN') | (data['ocean_proximity'] == 'INLAND')]"
   ]
  },
  {
   "cell_type": "code",
   "execution_count": 134,
   "id": "a1fe98f8",
   "metadata": {},
   "outputs": [],
   "source": [
    "columns = ['latitude', 'longitude', 'housing_median_age', 'total_rooms', 'total_bedrooms',\n",
    "           'population', 'households', 'median_income', 'median_house_value']"
   ]
  },
  {
   "cell_type": "code",
   "execution_count": 135,
   "id": "8cbea940",
   "metadata": {},
   "outputs": [
    {
     "data": {
      "text/html": [
       "<div>\n",
       "<style scoped>\n",
       "    .dataframe tbody tr th:only-of-type {\n",
       "        vertical-align: middle;\n",
       "    }\n",
       "\n",
       "    .dataframe tbody tr th {\n",
       "        vertical-align: top;\n",
       "    }\n",
       "\n",
       "    .dataframe thead th {\n",
       "        text-align: right;\n",
       "    }\n",
       "</style>\n",
       "<table border=\"1\" class=\"dataframe\">\n",
       "  <thead>\n",
       "    <tr style=\"text-align: right;\">\n",
       "      <th></th>\n",
       "      <th>latitude</th>\n",
       "      <th>longitude</th>\n",
       "      <th>housing_median_age</th>\n",
       "      <th>total_rooms</th>\n",
       "      <th>total_bedrooms</th>\n",
       "      <th>population</th>\n",
       "      <th>households</th>\n",
       "      <th>median_income</th>\n",
       "      <th>median_house_value</th>\n",
       "    </tr>\n",
       "  </thead>\n",
       "  <tbody>\n",
       "    <tr>\n",
       "      <th>701</th>\n",
       "      <td>37.64</td>\n",
       "      <td>-121.97</td>\n",
       "      <td>32.0</td>\n",
       "      <td>1283.0</td>\n",
       "      <td>194.0</td>\n",
       "      <td>485.0</td>\n",
       "      <td>171.0</td>\n",
       "      <td>6.0574</td>\n",
       "      <td>431000.0</td>\n",
       "    </tr>\n",
       "    <tr>\n",
       "      <th>830</th>\n",
       "      <td>37.61</td>\n",
       "      <td>-121.99</td>\n",
       "      <td>9.0</td>\n",
       "      <td>3666.0</td>\n",
       "      <td>711.0</td>\n",
       "      <td>2341.0</td>\n",
       "      <td>703.0</td>\n",
       "      <td>4.6458</td>\n",
       "      <td>217000.0</td>\n",
       "    </tr>\n",
       "    <tr>\n",
       "      <th>859</th>\n",
       "      <td>37.57</td>\n",
       "      <td>-121.97</td>\n",
       "      <td>21.0</td>\n",
       "      <td>4342.0</td>\n",
       "      <td>783.0</td>\n",
       "      <td>2172.0</td>\n",
       "      <td>789.0</td>\n",
       "      <td>4.6146</td>\n",
       "      <td>247600.0</td>\n",
       "    </tr>\n",
       "    <tr>\n",
       "      <th>860</th>\n",
       "      <td>37.58</td>\n",
       "      <td>-121.96</td>\n",
       "      <td>15.0</td>\n",
       "      <td>3575.0</td>\n",
       "      <td>597.0</td>\n",
       "      <td>1777.0</td>\n",
       "      <td>559.0</td>\n",
       "      <td>5.7192</td>\n",
       "      <td>283500.0</td>\n",
       "    </tr>\n",
       "    <tr>\n",
       "      <th>861</th>\n",
       "      <td>37.58</td>\n",
       "      <td>-121.98</td>\n",
       "      <td>20.0</td>\n",
       "      <td>4126.0</td>\n",
       "      <td>1031.0</td>\n",
       "      <td>2079.0</td>\n",
       "      <td>975.0</td>\n",
       "      <td>3.6832</td>\n",
       "      <td>216900.0</td>\n",
       "    </tr>\n",
       "    <tr>\n",
       "      <th>...</th>\n",
       "      <td>...</td>\n",
       "      <td>...</td>\n",
       "      <td>...</td>\n",
       "      <td>...</td>\n",
       "      <td>...</td>\n",
       "      <td>...</td>\n",
       "      <td>...</td>\n",
       "      <td>...</td>\n",
       "      <td>...</td>\n",
       "    </tr>\n",
       "    <tr>\n",
       "      <th>20635</th>\n",
       "      <td>39.48</td>\n",
       "      <td>-121.09</td>\n",
       "      <td>25.0</td>\n",
       "      <td>1665.0</td>\n",
       "      <td>374.0</td>\n",
       "      <td>845.0</td>\n",
       "      <td>330.0</td>\n",
       "      <td>1.5603</td>\n",
       "      <td>78100.0</td>\n",
       "    </tr>\n",
       "    <tr>\n",
       "      <th>20636</th>\n",
       "      <td>39.49</td>\n",
       "      <td>-121.21</td>\n",
       "      <td>18.0</td>\n",
       "      <td>697.0</td>\n",
       "      <td>150.0</td>\n",
       "      <td>356.0</td>\n",
       "      <td>114.0</td>\n",
       "      <td>2.5568</td>\n",
       "      <td>77100.0</td>\n",
       "    </tr>\n",
       "    <tr>\n",
       "      <th>20637</th>\n",
       "      <td>39.43</td>\n",
       "      <td>-121.22</td>\n",
       "      <td>17.0</td>\n",
       "      <td>2254.0</td>\n",
       "      <td>485.0</td>\n",
       "      <td>1007.0</td>\n",
       "      <td>433.0</td>\n",
       "      <td>1.7000</td>\n",
       "      <td>92300.0</td>\n",
       "    </tr>\n",
       "    <tr>\n",
       "      <th>20638</th>\n",
       "      <td>39.43</td>\n",
       "      <td>-121.32</td>\n",
       "      <td>18.0</td>\n",
       "      <td>1860.0</td>\n",
       "      <td>409.0</td>\n",
       "      <td>741.0</td>\n",
       "      <td>349.0</td>\n",
       "      <td>1.8672</td>\n",
       "      <td>84700.0</td>\n",
       "    </tr>\n",
       "    <tr>\n",
       "      <th>20639</th>\n",
       "      <td>39.37</td>\n",
       "      <td>-121.24</td>\n",
       "      <td>16.0</td>\n",
       "      <td>2785.0</td>\n",
       "      <td>616.0</td>\n",
       "      <td>1387.0</td>\n",
       "      <td>530.0</td>\n",
       "      <td>2.3886</td>\n",
       "      <td>89400.0</td>\n",
       "    </tr>\n",
       "  </tbody>\n",
       "</table>\n",
       "<p>15687 rows × 9 columns</p>\n",
       "</div>"
      ],
      "text/plain": [
       "       latitude  longitude  housing_median_age  total_rooms  total_bedrooms  \\\n",
       "701       37.64    -121.97                32.0       1283.0           194.0   \n",
       "830       37.61    -121.99                 9.0       3666.0           711.0   \n",
       "859       37.57    -121.97                21.0       4342.0           783.0   \n",
       "860       37.58    -121.96                15.0       3575.0           597.0   \n",
       "861       37.58    -121.98                20.0       4126.0          1031.0   \n",
       "...         ...        ...                 ...          ...             ...   \n",
       "20635     39.48    -121.09                25.0       1665.0           374.0   \n",
       "20636     39.49    -121.21                18.0        697.0           150.0   \n",
       "20637     39.43    -121.22                17.0       2254.0           485.0   \n",
       "20638     39.43    -121.32                18.0       1860.0           409.0   \n",
       "20639     39.37    -121.24                16.0       2785.0           616.0   \n",
       "\n",
       "       population  households  median_income  median_house_value  \n",
       "701         485.0       171.0         6.0574            431000.0  \n",
       "830        2341.0       703.0         4.6458            217000.0  \n",
       "859        2172.0       789.0         4.6146            247600.0  \n",
       "860        1777.0       559.0         5.7192            283500.0  \n",
       "861        2079.0       975.0         3.6832            216900.0  \n",
       "...           ...         ...            ...                 ...  \n",
       "20635       845.0       330.0         1.5603             78100.0  \n",
       "20636       356.0       114.0         2.5568             77100.0  \n",
       "20637      1007.0       433.0         1.7000             92300.0  \n",
       "20638       741.0       349.0         1.8672             84700.0  \n",
       "20639      1387.0       530.0         2.3886             89400.0  \n",
       "\n",
       "[15687 rows x 9 columns]"
      ]
     },
     "execution_count": 135,
     "metadata": {},
     "output_type": "execute_result"
    }
   ],
   "source": [
    "filtered_data = filtered_data[columns]\n",
    "filtered_data"
   ]
  },
  {
   "cell_type": "markdown",
   "id": "235e2030",
   "metadata": {},
   "source": [
    "## Question 1: There's one feature with missing values. What is it?"
   ]
  },
  {
   "cell_type": "code",
   "execution_count": 136,
   "id": "41590a53",
   "metadata": {},
   "outputs": [
    {
     "name": "stdout",
     "output_type": "stream",
     "text": [
      "total_bedrooms\n"
     ]
    }
   ],
   "source": [
    "for column in filtered_data.columns:\n",
    "    if data[column].isna().any() == True:\n",
    "        print(column)"
   ]
  },
  {
   "cell_type": "code",
   "execution_count": 137,
   "id": "a18a3fc3",
   "metadata": {},
   "outputs": [
    {
     "data": {
      "text/plain": [
       "latitude                0\n",
       "longitude               0\n",
       "housing_median_age      0\n",
       "total_rooms             0\n",
       "total_bedrooms        157\n",
       "population              0\n",
       "households              0\n",
       "median_income           0\n",
       "median_house_value      0\n",
       "dtype: int64"
      ]
     },
     "execution_count": 137,
     "metadata": {},
     "output_type": "execute_result"
    }
   ],
   "source": [
    "filtered_data.isnull().sum()"
   ]
  },
  {
   "cell_type": "code",
   "execution_count": 138,
   "id": "75b12b68",
   "metadata": {},
   "outputs": [
    {
     "name": "stdout",
     "output_type": "stream",
     "text": [
      "<class 'pandas.core.frame.DataFrame'>\n",
      "Index: 15687 entries, 701 to 20639\n",
      "Data columns (total 9 columns):\n",
      " #   Column              Non-Null Count  Dtype  \n",
      "---  ------              --------------  -----  \n",
      " 0   latitude            15687 non-null  float64\n",
      " 1   longitude           15687 non-null  float64\n",
      " 2   housing_median_age  15687 non-null  float64\n",
      " 3   total_rooms         15687 non-null  float64\n",
      " 4   total_bedrooms      15530 non-null  float64\n",
      " 5   population          15687 non-null  float64\n",
      " 6   households          15687 non-null  float64\n",
      " 7   median_income       15687 non-null  float64\n",
      " 8   median_house_value  15687 non-null  float64\n",
      "dtypes: float64(9)\n",
      "memory usage: 1.2 MB\n"
     ]
    }
   ],
   "source": [
    "filtered_data.info()"
   ]
  },
  {
   "cell_type": "markdown",
   "id": "26bc54c6",
   "metadata": {},
   "source": [
    "## Question 2: What's the median (50% percentile) for variable ```'population'```?"
   ]
  },
  {
   "cell_type": "code",
   "execution_count": 139,
   "id": "1106cb61",
   "metadata": {},
   "outputs": [
    {
     "name": "stdout",
     "output_type": "stream",
     "text": [
      "Median population: 1195.0\n"
     ]
    }
   ],
   "source": [
    "median_population = filtered_data['population'].median()\n",
    "print(\"Median population:\", median_population)"
   ]
  },
  {
   "cell_type": "code",
   "execution_count": 140,
   "id": "f3c5d9ea",
   "metadata": {},
   "outputs": [
    {
     "name": "stdout",
     "output_type": "stream",
     "text": [
      "Median population: 1195.0\n"
     ]
    }
   ],
   "source": [
    "median_population = filtered_data.population.describe()[5]\n",
    "print(\"Median population:\", median_population)"
   ]
  },
  {
   "cell_type": "markdown",
   "id": "d1e9adda",
   "metadata": {},
   "source": [
    "## Prepare and split the dataset\n",
    "- Shuffle the dataset (the filtered one you created above), use seed 42.\n",
    "- Split your data in train/val/test sets, with 60%/20%/20% distribution.\n",
    "- Apply the log transformation to the median_house_value variable using the np.log1p() function."
   ]
  },
  {
   "cell_type": "code",
   "execution_count": 141,
   "id": "6848402c",
   "metadata": {},
   "outputs": [],
   "source": [
    "n = filtered_data.shape[0]\n",
    "\n",
    "idx = np.arange(n)\n",
    "np.random.seed(42)\n",
    "np.random.shuffle(idx)"
   ]
  },
  {
   "cell_type": "code",
   "execution_count": 142,
   "id": "dfd9bad2",
   "metadata": {},
   "outputs": [],
   "source": [
    "n_val = int(n * 0.2)\n",
    "n_test = int(n * 0.2)\n",
    "n_train = n - n_val - n_test"
   ]
  },
  {
   "cell_type": "code",
   "execution_count": 143,
   "id": "0896dbb4",
   "metadata": {},
   "outputs": [],
   "source": [
    "data_train = filtered_data.iloc[idx[:n_train]]\n",
    "data_val = filtered_data.iloc[idx[n_train:n_train+n_val]]\n",
    "data_test = filtered_data.iloc[idx[n_train+n_val:]]\n",
    "\n",
    "data_train = data_train.reset_index(drop=True)\n",
    "data_val = data_val.reset_index(drop=True)\n",
    "data_test = data_test.reset_index(drop=True)"
   ]
  },
  {
   "cell_type": "code",
   "execution_count": 144,
   "id": "2d2b2b93",
   "metadata": {},
   "outputs": [],
   "source": [
    "y_train = np.log1p(data_train.median_house_value.values)\n",
    "y_val = np.log1p(data_val.median_house_value.values)\n",
    "y_test = np.log1p(data_test.median_house_value.values)"
   ]
  },
  {
   "cell_type": "code",
   "execution_count": 145,
   "id": "6795e7d4",
   "metadata": {},
   "outputs": [
    {
     "data": {
      "text/plain": [
       "Index(['latitude', 'longitude', 'housing_median_age', 'total_rooms',\n",
       "       'total_bedrooms', 'population', 'households', 'median_income',\n",
       "       'median_house_value'],\n",
       "      dtype='object')"
      ]
     },
     "execution_count": 145,
     "metadata": {},
     "output_type": "execute_result"
    }
   ],
   "source": [
    "data_train.columns"
   ]
  },
  {
   "cell_type": "code",
   "execution_count": 146,
   "id": "33d0229a",
   "metadata": {},
   "outputs": [],
   "source": [
    "del data_train['median_house_value']\n",
    "del data_val['median_house_value']\n",
    "del data_test['median_house_value']"
   ]
  },
  {
   "cell_type": "code",
   "execution_count": 147,
   "id": "69f81d5a",
   "metadata": {},
   "outputs": [
    {
     "data": {
      "text/plain": [
       "Index(['latitude', 'longitude', 'housing_median_age', 'total_rooms',\n",
       "       'total_bedrooms', 'population', 'households', 'median_income'],\n",
       "      dtype='object')"
      ]
     },
     "execution_count": 147,
     "metadata": {},
     "output_type": "execute_result"
    }
   ],
   "source": [
    "data_train.columns"
   ]
  },
  {
   "cell_type": "markdown",
   "id": "5c1a3e6b",
   "metadata": {},
   "source": [
    "## Question 3: Follow the below steps:\n",
    "- We need to deal with missing values for the column from Q1.\n",
    "- We have two options: fill it with 0 or with the mean of this variable.\n",
    "- Try both options. For each, train a linear regression model without regularization using the code from the lessons.\n",
    "- For computing the mean, use the training only!\n",
    "- Use the validation dataset to evaluate the models and compare the RMSE of each option.\n",
    "- Round the RMSE scores to 2 decimal digits using round(score, 2)\n",
    "- Which option gives better RMSE?"
   ]
  },
  {
   "cell_type": "code",
   "execution_count": 148,
   "id": "4d1d7435",
   "metadata": {},
   "outputs": [],
   "source": [
    "def fill_missing_values(dataframe, method):\n",
    "    df = dataframe.copy()\n",
    "    \n",
    "    if method == 0:\n",
    "        df.total_bedrooms.fillna(value=0, inplace = True)\n",
    "        return df.values\n",
    "        \n",
    "    elif method == 'mean':\n",
    "        mean_value = data.total_bedrooms.mean()\n",
    "        df.total_bedrooms.fillna(value=mean_value, inplace = True)\n",
    "        return df.values\n",
    "    else:\n",
    "        print('Invalid method!')"
   ]
  },
  {
   "cell_type": "code",
   "execution_count": 149,
   "id": "e177537f",
   "metadata": {},
   "outputs": [],
   "source": [
    "def linear_regression(X, y):\n",
    "    ones = np.ones(X.shape[0])\n",
    "    X = np.column_stack([ones, X])\n",
    "\n",
    "    XTX = X.T.dot(X)\n",
    "    XTX_inv = np.linalg.inv(XTX)\n",
    "    w = XTX_inv.dot(X.T).dot(y)\n",
    "    \n",
    "    return w[0], w[1:]"
   ]
  },
  {
   "cell_type": "code",
   "execution_count": 150,
   "id": "9caa7caf",
   "metadata": {},
   "outputs": [],
   "source": [
    "def rmse(y, y_pred):\n",
    "    error = y_pred - y\n",
    "    mse = (error ** 2).mean()\n",
    "    return np.sqrt(mse)"
   ]
  },
  {
   "cell_type": "code",
   "execution_count": 153,
   "id": "3cf37708",
   "metadata": {},
   "outputs": [
    {
     "data": {
      "text/plain": [
       "0.34"
      ]
     },
     "execution_count": 153,
     "metadata": {},
     "output_type": "execute_result"
    }
   ],
   "source": [
    "X_train = fill_missing_values(data_train, 'mean')\n",
    "w_0, w = linear_regression(X_train, y_train)\n",
    "\n",
    "X_val = fill_missing_values(data_val, 'mean')\n",
    "y_val_pred = w_0 + X_val.dot(w)\n",
    "rmse_score = round(rmse(y_val_pred, y_val), 2)\n",
    "rmse_score"
   ]
  },
  {
   "cell_type": "code",
   "execution_count": 154,
   "id": "1bf7fd1e",
   "metadata": {},
   "outputs": [
    {
     "data": {
      "text/plain": [
       "0.34"
      ]
     },
     "execution_count": 154,
     "metadata": {},
     "output_type": "execute_result"
    }
   ],
   "source": [
    "X_train = fill_missing_values(data_train, 0)\n",
    "w_0, w = linear_regression(X_train, y_train)\n",
    "\n",
    "X_val = fill_missing_values(data_val, 0)\n",
    "y_val_pred = w_0 + X_val.dot(w)\n",
    "rmse_score = round(rmse(y_val_pred, y_val), 2)\n",
    "rmse_score"
   ]
  },
  {
   "cell_type": "markdown",
   "id": "fad4a5b8",
   "metadata": {},
   "source": [
    "As we can see Both are equally good"
   ]
  },
  {
   "cell_type": "markdown",
   "id": "95b77315",
   "metadata": {},
   "source": [
    "## Question 4: Follow the below steps:\n",
    "- Now let's train a regularized linear regression.\n",
    "- For this question, fill the NAs with 0.\n",
    "- Try different values of r from this list: [0, 0.000001, 0.0001, 0.001, 0.01, 0.1, 1, 5, 10].\n",
    "- Use RMSE to evaluate the model on the validation dataset.\n",
    "- Round the RMSE scores to 2 decimal digits.\n",
    "- Which r gives the best RMSE?\n",
    "- If there are multiple options, select the smallest r."
   ]
  },
  {
   "cell_type": "code",
   "execution_count": 157,
   "id": "501dada8",
   "metadata": {},
   "outputs": [],
   "source": [
    "def linear_regression_reg(X, y, r=0.0):\n",
    "    ones = np.ones(X.shape[0])\n",
    "    X = np.column_stack([ones, X])\n",
    "\n",
    "    XTX = X.T.dot(X)\n",
    "    reg = r * np.eye(XTX.shape[0])\n",
    "    XTX = XTX + reg\n",
    "\n",
    "    XTX_inv = np.linalg.inv(XTX)\n",
    "    w = XTX_inv.dot(X.T).dot(y)\n",
    "    \n",
    "    return w[0], w[1:]"
   ]
  },
  {
   "cell_type": "code",
   "execution_count": 158,
   "id": "fa783e88",
   "metadata": {},
   "outputs": [
    {
     "name": "stdout",
     "output_type": "stream",
     "text": [
      "r: 0, RMSE: 0.34\n",
      "r: 1e-06, RMSE: 0.34\n",
      "r: 0.0001, RMSE: 0.34\n",
      "r: 0.001, RMSE: 0.34\n",
      "r: 0.01, RMSE: 0.34\n",
      "r: 0.1, RMSE: 0.34\n",
      "r: 1, RMSE: 0.34\n",
      "r: 5, RMSE: 0.35\n",
      "r: 10, RMSE: 0.35\n"
     ]
    }
   ],
   "source": [
    "r_values = [0, 0.000001, 0.0001, 0.001, 0.01, 0.1, 1, 5, 10]\n",
    "\n",
    "for r in r_values:\n",
    "    X_train = fill_missing_values(data_train, 0)\n",
    "    w_0, w = linear_regression_reg(X_train, y_train, r=r)\n",
    "    \n",
    "    X_val = fill_missing_values(data_val, 0)\n",
    "    y_val_pred = w_0 + X_val.dot(w)\n",
    "    rmse_score = round(rmse(y_val_pred, y_val), 2)\n",
    "    \n",
    "    print(f'r: {r}, RMSE: {rmse_score}')"
   ]
  },
  {
   "cell_type": "markdown",
   "id": "a4c89547",
   "metadata": {},
   "source": [
    "The smallest r which gives the best RMSE is : 0.000001"
   ]
  },
  {
   "cell_type": "markdown",
   "id": "5b07b0d0",
   "metadata": {},
   "source": [
    "## Question 5: Follow the bellow steps\n",
    "- We used seed 42 for splitting the data. Let's find out how selecting the seed influences our score.\n",
    "- Try different seed values: [0, 1, 2, 3, 4, 5, 6, 7, 8, 9].\n",
    "- For each seed, do the train/validation/test split with 60%/20%/20% distribution.\n",
    "- Fill the missing values with 0 and train a model without regularization.\n",
    "- For each seed, evaluate the model on the validation dataset and collect the RMSE scores.\n",
    "- What's the standard deviation of all the scores? To compute the standard deviation, use np.std.\n",
    "- Round the result to 3 decimal digits (round(std, 3))"
   ]
  },
  {
   "cell_type": "code",
   "execution_count": 174,
   "id": "0f1e3b87",
   "metadata": {},
   "outputs": [
    {
     "name": "stdout",
     "output_type": "stream",
     "text": [
      "seed: 0, RMSE: 0.34\n",
      "seed: 1, RMSE: 0.34\n",
      "seed: 2, RMSE: 0.34\n",
      "seed: 3, RMSE: 0.33\n",
      "seed: 4, RMSE: 0.34\n",
      "seed: 5, RMSE: 0.34\n",
      "seed: 6, RMSE: 0.34\n",
      "seed: 7, RMSE: 0.35\n",
      "seed: 8, RMSE: 0.35\n",
      "seed: 9, RMSE: 0.33\n"
     ]
    }
   ],
   "source": [
    "seed_values = [0, 1, 2, 3, 4, 5, 6, 7, 8, 9]\n",
    "rmse_scores = []\n",
    "\n",
    "for seed in seed_values:\n",
    "    n = filtered_data.shape[0]\n",
    "\n",
    "    idx = np.arange(n)\n",
    "    np.random.seed(seed)\n",
    "    np.random.shuffle(idx)\n",
    "    \n",
    "    n_val = int(n * 0.2)\n",
    "    n_test = int(n * 0.2)\n",
    "    n_train = n - n_val - n_test\n",
    "    \n",
    "    data_train = filtered_data.iloc[idx[:n_train]]\n",
    "    data_val = filtered_data.iloc[idx[n_train:n_train+n_val]]\n",
    "    data_test = filtered_data.iloc[idx[n_train+n_val:]]\n",
    "\n",
    "    data_train = data_train.reset_index(drop=True)\n",
    "    data_val = data_val.reset_index(drop=True)\n",
    "    data_test = data_test.reset_index(drop=True)\n",
    "    \n",
    "    y_train = np.log1p(data_train.median_house_value.values)\n",
    "    y_val = np.log1p(data_val.median_house_value.values)\n",
    "    y_test = np.log1p(data_test.median_house_value.values)\n",
    "    \n",
    "    del data_train['median_house_value']\n",
    "    del data_val['median_house_value']\n",
    "    del data_test['median_house_value']\n",
    "    \n",
    "    X_train = fill_missing_values(data_train, 0)\n",
    "    w_0, w = linear_regression_reg(X_train, y_train, r=0)\n",
    "\n",
    "    X_val = fill_missing_values(data_val, 0)\n",
    "    y_val_pred = w_0 + X_val.dot(w)\n",
    "    rmse_score = round(rmse(y_val_pred, y_val), 2)\n",
    "    \n",
    "    print(f'seed: {seed}, RMSE: {rmse_score}')\n",
    "    \n",
    "    rmse_scores.append(rmse_score)\n"
   ]
  },
  {
   "cell_type": "code",
   "execution_count": 175,
   "id": "b3668036",
   "metadata": {},
   "outputs": [
    {
     "name": "stdout",
     "output_type": "stream",
     "text": [
      "standard deviation is:  0.006\n"
     ]
    }
   ],
   "source": [
    "std_deviation = round(np.std(np.array(rmse_scores)), 3)\n",
    "print('standard deviation is: ', std_deviation)"
   ]
  },
  {
   "cell_type": "markdown",
   "id": "b9595044",
   "metadata": {},
   "source": [
    "## Question 6: Flollow the bellow steps:\n",
    "- Split the dataset like previously, use seed 9.\n",
    "- Combine train and validation datasets.\n",
    "- Fill the missing values with 0 and train a model with ```r=0.001```.\n",
    "- What's the RMSE on the test dataset?\n"
   ]
  },
  {
   "cell_type": "code",
   "execution_count": 169,
   "id": "f2904186",
   "metadata": {},
   "outputs": [],
   "source": [
    "n = filtered_data.shape[0]\n",
    "\n",
    "idx = np.arange(n)\n",
    "np.random.seed(seed)\n",
    "np.random.shuffle(idx)\n",
    "\n",
    "n_val = int(n * 0.2)\n",
    "n_test = int(n * 0.2)\n",
    "n_train = n - n_val - n_test\n",
    "\n",
    "data_train = filtered_data.iloc[idx[:n_train]]\n",
    "data_val = filtered_data.iloc[idx[n_train:n_train+n_val]]\n",
    "data_test = filtered_data.iloc[idx[n_train+n_val:]]\n",
    "\n",
    "data_train = data_train.reset_index(drop=True)\n",
    "data_val = data_val.reset_index(drop=True)\n",
    "data_test = data_test.reset_index(drop=True)\n",
    "\n",
    "y_train = np.log1p(data_train.median_house_value.values)\n",
    "y_val = np.log1p(data_val.median_house_value.values)\n",
    "y_test = np.log1p(data_test.median_house_value.values)\n",
    "\n",
    "del data_train['median_house_value']\n",
    "del data_val['median_house_value']\n",
    "del data_test['median_house_value']"
   ]
  },
  {
   "cell_type": "code",
   "execution_count": 173,
   "id": "c98fc40d",
   "metadata": {},
   "outputs": [],
   "source": [
    "concatenated_data = pd.concat([data_train, data_val])\n",
    "concatenated_y = np.concatenate((y_train, y_val), axis=0)"
   ]
  },
  {
   "cell_type": "code",
   "execution_count": 183,
   "id": "123b9c1f",
   "metadata": {},
   "outputs": [
    {
     "name": "stdout",
     "output_type": "stream",
     "text": [
      "RMSE: 0.33\n"
     ]
    }
   ],
   "source": [
    " X_train = fill_missing_values(concatenated_data, 0)\n",
    "w_0, w = linear_regression_reg(X_train, concatenated_y, r=0.001)\n",
    "\n",
    "X_test = fill_missing_values(data_test, 0)\n",
    "y_test_pred = w_0 + X_test.dot(w)\n",
    "rmse_score = round(rmse(y_test_pred, y_test), 2)\n",
    "\n",
    "print(f'RMSE: {rmse_score}')"
   ]
  }
 ],
 "metadata": {
  "kernelspec": {
   "display_name": "Python 3 (ipykernel)",
   "language": "python",
   "name": "python3"
  },
  "language_info": {
   "codemirror_mode": {
    "name": "ipython",
    "version": 3
   },
   "file_extension": ".py",
   "mimetype": "text/x-python",
   "name": "python",
   "nbconvert_exporter": "python",
   "pygments_lexer": "ipython3",
   "version": "3.11.4"
  }
 },
 "nbformat": 4,
 "nbformat_minor": 5
}
